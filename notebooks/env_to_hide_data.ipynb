{
 "cells": [
  {
   "cell_type": "markdown",
   "id": "12a21681",
   "metadata": {},
   "source": [
    "# .ENV СКРОЕТ ВСЁ"
   ]
  },
  {
   "cell_type": "markdown",
   "id": "57dc278a",
   "metadata": {},
   "source": [
    "#### Записки Pythonista"
   ]
  },
  {
   "cell_type": "markdown",
   "id": "6ec229cf",
   "metadata": {},
   "source": [
    "1. подготовим возможность скрытия паролей и другой важной информации:"
   ]
  },
  {
   "cell_type": "code",
   "execution_count": null,
   "id": "a0e2e342",
   "metadata": {},
   "outputs": [],
   "source": [
    "pip install python-dotenv"
   ]
  },
  {
   "cell_type": "markdown",
   "id": "f29033a5",
   "metadata": {},
   "source": [
    "2. создадим файл .env в той же директории, что и исполняемые *\\*.py* файлы:"
   ]
  },
  {
   "cell_type": "code",
   "execution_count": null,
   "id": "246582d3",
   "metadata": {},
   "outputs": [],
   "source": [
    "vim .env"
   ]
  },
  {
   "cell_type": "code",
   "execution_count": null,
   "id": "5e8dbb4a",
   "metadata": {},
   "outputs": [],
   "source": [
    "MY_SECRET_NAME = 'Login_to_some_site'\n",
    "MY_SECRET_PASS = 'SoMe_LoNg_pAsS'\n",
    "TOKEN = 'AbsolutelyUnreadableString'"
   ]
  },
  {
   "cell_type": "markdown",
   "id": "c8ea762c",
   "metadata": {},
   "source": [
    "3. Подготовим файл программы для использования .env переменных:"
   ]
  },
  {
   "cell_type": "code",
   "execution_count": null,
   "id": "1c9a55cc",
   "metadata": {},
   "outputs": [],
   "source": [
    "import os\n",
    "\n",
    "from dotenv import load_dotenv\n",
    "\n",
    "load_dotenv()"
   ]
  },
  {
   "cell_type": "markdown",
   "id": "2025a6b4",
   "metadata": {},
   "source": [
    "4. Используем токены через os.getenv('YourSecretToken')"
   ]
  },
  {
   "cell_type": "code",
   "execution_count": null,
   "id": "e5d5e833",
   "metadata": {},
   "outputs": [],
   "source": [
    "token = os.getenv('TOKEN')\n",
    "username = os.getenv('MY_SECRET_NAME')\n",
    "userpass = os.getenv('MY_SECRET_PASS')"
   ]
  },
  {
   "cell_type": "markdown",
   "id": "4723b20c",
   "metadata": {},
   "source": [
    "- *автор [Сергей Самойлов](https://github.com/sergey-samoylov)*"
   ]
  }
 ],
 "metadata": {
  "kernelspec": {
   "display_name": "Python 3 (ipykernel)",
   "language": "python",
   "name": "python3"
  },
  "language_info": {
   "codemirror_mode": {
    "name": "ipython",
    "version": 3
   },
   "file_extension": ".py",
   "mimetype": "text/x-python",
   "name": "python",
   "nbconvert_exporter": "python",
   "pygments_lexer": "ipython3",
   "version": "3.10.10"
  }
 },
 "nbformat": 4,
 "nbformat_minor": 5
}
