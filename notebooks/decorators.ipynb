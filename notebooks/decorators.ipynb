{
 "cells": [
  {
   "cell_type": "markdown",
   "id": "12a21681",
   "metadata": {},
   "source": [
    "# ДЕКОРАТОР"
   ]
  },
  {
   "cell_type": "markdown",
   "id": "57dc278a",
   "metadata": {},
   "source": [
    "#### Записки Pythonista"
   ]
  },
  {
   "cell_type": "markdown",
   "id": "be95dec1",
   "metadata": {},
   "source": [
    "Предположим, у нас есть функция вычисления гипотенузы:"
   ]
  },
  {
   "cell_type": "markdown",
   "id": "b5da01cc",
   "metadata": {},
   "source": [
    "$$c = \\sqrt{a^2}+{b^2}$$"
   ]
  },
  {
   "cell_type": "code",
   "execution_count": null,
   "id": "901e5678",
   "metadata": {},
   "outputs": [],
   "source": [
    "def get_hypo(a, b):                                                             \n",
    "    return (a ** 2 + b ** 2) ** 0.5 "
   ]
  },
  {
   "cell_type": "markdown",
   "id": "4ed365c9",
   "metadata": {},
   "source": [
    "Мы хотим узнать больше об этой функции, а также ... любой другой.\n",
    "\n",
    "Это можно сделать через декоратор"
   ]
  },
  {
   "cell_type": "code",
   "execution_count": null,
   "id": "88921d07",
   "metadata": {},
   "outputs": [],
   "source": [
    "def log_me(func):                                                               \n",
    "    def wrapper(*args, **kwargs):                                               \n",
    "        print(f\"Вызываю функцию {func.__name__} с аргументами: {args}{kwargs}\")                   \n",
    "        return_value = func(*args, **kwargs)                                    \n",
    "        print(f\"Возвращаю результат работы функции {return_value}\")             \n",
    "        return return_value                                                     \n",
    "    return wrapper "
   ]
  },
  {
   "cell_type": "markdown",
   "id": "f9962d8a",
   "metadata": {},
   "source": [
    "\"Обернем\" нашу функцию вычисления гипотенузы в декоратор:"
   ]
  },
  {
   "cell_type": "code",
   "execution_count": null,
   "id": "60b36f57",
   "metadata": {},
   "outputs": [],
   "source": [
    "@log_me                                                                         \n",
    "def get_hypo(a, b):                                                             \n",
    "    return (a ** 2 + b ** 2) ** 0.5 "
   ]
  },
  {
   "cell_type": "markdown",
   "id": "ca7b7a2e",
   "metadata": {},
   "source": [
    "Код будет выглядеть так:"
   ]
  },
  {
   "cell_type": "code",
   "execution_count": 3,
   "id": "76da1067",
   "metadata": {},
   "outputs": [
    {
     "name": "stdout",
     "output_type": "stream",
     "text": [
      "Вызываю функцию get_hypo с аргументами: (3, 4){}\n",
      "Возвращаю результат работы функции 5.0\n"
     ]
    },
    {
     "data": {
      "text/plain": [
       "5.0"
      ]
     },
     "execution_count": 3,
     "metadata": {},
     "output_type": "execute_result"
    }
   ],
   "source": [
    "def log_me(func):                                                               \n",
    "    def wrapper(*args, **kwargs):                                               \n",
    "        print(f\"Вызываю функцию {func.__name__} с аргументами: {args}{kwargs}\")                   \n",
    "        return_value = func(*args, **kwargs)                                    \n",
    "        print(f\"Возвращаю результат работы функции {return_value}\")             \n",
    "        return return_value                                                     \n",
    "    return wrapper\n",
    "\n",
    "@log_me                                                                         \n",
    "def get_hypo(a, b):                                                             \n",
    "    return (a ** 2 + b ** 2) ** 0.5 \n",
    "\n",
    "# Запустим функцию, в этом случае она сработает в декораторе:\n",
    "get_hypo(3, 4)"
   ]
  },
  {
   "cell_type": "markdown",
   "id": "d6723c54",
   "metadata": {},
   "source": [
    "Поместим в этот же декоратор функцию немного сложнее:"
   ]
  },
  {
   "cell_type": "code",
   "execution_count": 5,
   "id": "eb159412",
   "metadata": {},
   "outputs": [
    {
     "name": "stdout",
     "output_type": "stream",
     "text": [
      "Вызываю функцию fibonacci_numbers с аргументами: (12,){}\n",
      "Возвращаю результат работы функции <generator object fibonacci_numbers at 0x7fb62026cc80>\n",
      "1 1 2 3 5 8 13 21 34 55 89 144 "
     ]
    }
   ],
   "source": [
    "def log_me(func):                                                               \n",
    "    def wrapper(*args, **kwargs):                                               \n",
    "        print(f\"Вызываю функцию {func.__name__} с аргументами: {args}{kwargs}\")                   \n",
    "        return_value = func(*args, **kwargs)                                    \n",
    "        print(f\"Возвращаю результат работы функции {return_value}\")             \n",
    "        return return_value                                                     \n",
    "    return wrapper\n",
    "\n",
    "@log_me\n",
    "def fibonacci_numbers(nums):\n",
    "    x, y = 0, 1\n",
    "    for _ in range(nums):\n",
    "        x, y = y, x+y\n",
    "        # yield не забивает память цифрами. Каждый раз одно значение хранит и \"замораживает\" функцию\n",
    "        yield x\n",
    "        \n",
    "for i in fibonacci_numbers(12):\n",
    "    print(i, end = ' ')"
   ]
  },
  {
   "cell_type": "markdown",
   "id": "f59f08da",
   "metadata": {},
   "source": [
    "А если в данный декоратор аргументом функции передать словарь?"
   ]
  },
  {
   "cell_type": "code",
   "execution_count": 6,
   "id": "f57d37ce",
   "metadata": {},
   "outputs": [
    {
     "name": "stdout",
     "output_type": "stream",
     "text": [
      "Вызываю функцию car_func с аргументами: ({'brand': 'KIA', 'model': 'SOUL', 'year': 2023},){}\n",
      "KIA\n",
      "SOUL\n",
      "2023\n",
      "Возвращаю результат работы функции None\n"
     ]
    }
   ],
   "source": [
    "def log_me(func):                                                               \n",
    "    def wrapper(*args, **kwargs):                                               \n",
    "        print(f\"Вызываю функцию {func.__name__} с аргументами: {args}{kwargs}\")                   \n",
    "        return_value = func(*args, **kwargs)                                    \n",
    "        print(f\"Возвращаю результат работы функции {return_value}\")             \n",
    "        return return_value                                                     \n",
    "    return wrapper\n",
    "\n",
    "cardict =\t{\n",
    "  \"brand\": \"KIA\",\n",
    "  \"model\": \"SOUL\",\n",
    "  \"year\": 2023\n",
    "}\n",
    "\n",
    "@log_me\n",
    "def car_func(d):\n",
    "    for x in d.values():\n",
    "        print(x)\n",
    "\n",
    "car_func(cardict)"
   ]
  },
  {
   "cell_type": "markdown",
   "id": "e97edd87",
   "metadata": {},
   "source": [
    "Словарь воспринимается как \\*args, а не \\*\\*kwargs"
   ]
  },
  {
   "cell_type": "markdown",
   "id": "c61a37fa",
   "metadata": {},
   "source": [
    "Чтобы получился словарь, его нужно правильно передать в аргументах функции\n",
    "\n",
    "Наш декоратор чётко отработает и его."
   ]
  },
  {
   "cell_type": "code",
   "execution_count": 12,
   "id": "c6b7afab",
   "metadata": {},
   "outputs": [
    {
     "name": "stdout",
     "output_type": "stream",
     "text": [
      "Вызываю функцию guess_who с аргументами: (){'fname': 'Richard', 'lname': 'Stallman'}\n",
      "His last name is Stallman\n",
      "Возвращаю результат работы функции None\n",
      "Вызываю функцию guess_who с аргументами: (){'lname': 'Torvalds'}\n",
      "His last name is Torvalds\n",
      "Возвращаю результат работы функции None\n"
     ]
    }
   ],
   "source": [
    "def log_me(func):                                                               \n",
    "    def wrapper(*args, **kwargs):                                               \n",
    "        print(f\"Вызываю функцию {func.__name__} с аргументами: {args}{kwargs}\")                   \n",
    "        return_value = func(*args, **kwargs)                                    \n",
    "        print(f\"Возвращаю результат работы функции {return_value}\")             \n",
    "        return return_value                                                     \n",
    "    return wrapper\n",
    "\n",
    "@log_me\n",
    "def guess_who(**person):\n",
    "  print(\"His last name is \" + person[\"lname\"])\n",
    "\n",
    "guess_who(fname = \"Richard\", lname = \"Stallman\")\n",
    "guess_who(lname = \"Torvalds\")\n",
    "\n"
   ]
  },
  {
   "cell_type": "markdown",
   "id": "9e856f48",
   "metadata": {},
   "source": [
    "А почему результат работы функции None?\n",
    "\n",
    "Она же напечатала фамилии...\n",
    "\n",
    "Действительно, функция guess_who напечатала фамилии, но через return она ничего не возвращала в программу. Поэтому и None. :-)"
   ]
  },
  {
   "cell_type": "markdown",
   "id": "4723b20c",
   "metadata": {},
   "source": [
    "- *автор [Сергей Самойлов](https://github.com/sergey-samoylov)*"
   ]
  }
 ],
 "metadata": {
  "kernelspec": {
   "display_name": "Python 3 (ipykernel)",
   "language": "python",
   "name": "python3"
  },
  "language_info": {
   "codemirror_mode": {
    "name": "ipython",
    "version": 3
   },
   "file_extension": ".py",
   "mimetype": "text/x-python",
   "name": "python",
   "nbconvert_exporter": "python",
   "pygments_lexer": "ipython3",
   "version": "3.10.10"
  }
 },
 "nbformat": 4,
 "nbformat_minor": 5
}
