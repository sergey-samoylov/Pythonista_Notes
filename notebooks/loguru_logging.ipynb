{
 "cells": [
  {
   "cell_type": "markdown",
   "id": "12a21681",
   "metadata": {},
   "source": [
    "# LOGURU - ПРОСТОЙ, ПРАВИЛЬНЫЙ ЛОГГИНГ"
   ]
  },
  {
   "cell_type": "markdown",
   "id": "57dc278a",
   "metadata": {},
   "source": [
    "#### Записки Pythonista"
   ]
  },
  {
   "cell_type": "code",
   "execution_count": 1,
   "id": "bdf8bea7",
   "metadata": {},
   "outputs": [
    {
     "name": "stdout",
     "output_type": "stream",
     "text": [
      "Defaulting to user installation because normal site-packages is not writeable\n",
      "Collecting loguru\n",
      "  Using cached loguru-0.7.0-py3-none-any.whl (59 kB)\n",
      "Installing collected packages: loguru\n",
      "Successfully installed loguru-0.7.0\n",
      "Note: you may need to restart the kernel to use updated packages.\n"
     ]
    }
   ],
   "source": [
    "pip install loguru"
   ]
  },
  {
   "cell_type": "code",
   "execution_count": 2,
   "id": "f4af9cad",
   "metadata": {},
   "outputs": [],
   "source": [
    "from loguru import logger"
   ]
  },
  {
   "cell_type": "code",
   "execution_count": 6,
   "id": "234f5c07",
   "metadata": {},
   "outputs": [
    {
     "name": "stderr",
     "output_type": "stream",
     "text": [
      "\u001b[32m2023-05-11 17:10:52.548\u001b[0m | \u001b[34m\u001b[1mDEBUG   \u001b[0m | \u001b[36m__main__\u001b[0m:\u001b[36m<module>\u001b[0m:\u001b[36m1\u001b[0m - \u001b[34m\u001b[1mСообщение об ошибке уровня DEBUG\u001b[0m\n"
     ]
    }
   ],
   "source": [
    "logger.debug(\"Сообщение об ошибке уровня DEBUG\")"
   ]
  },
  {
   "cell_type": "code",
   "execution_count": 8,
   "id": "884f8fcf",
   "metadata": {
    "scrolled": true
   },
   "outputs": [
    {
     "name": "stdout",
     "output_type": "stream",
     "text": [
      "В принте (для сравнения) нет ни уровня, ни времени, ни строки с ошибкой\n"
     ]
    }
   ],
   "source": [
    "print(\"В принте (для сравнения) нет ни уровня, ни времени, ни строки с ошибкой\")"
   ]
  },
  {
   "cell_type": "markdown",
   "id": "4b259624",
   "metadata": {},
   "source": [
    "## Различные уровни и подсветка синтаксиса"
   ]
  },
  {
   "cell_type": "code",
   "execution_count": 8,
   "id": "397a7e47",
   "metadata": {
    "scrolled": true
   },
   "outputs": [
    {
     "name": "stderr",
     "output_type": "stream",
     "text": [
      "\u001b[32m2023-05-11 17:26:47.393\u001b[0m | \u001b[32m\u001b[1mSUCCESS \u001b[0m | \u001b[36m__main__\u001b[0m:\u001b[36m<module>\u001b[0m:\u001b[36m1\u001b[0m - \u001b[32m\u001b[1mУспешное завершение работы функции SUCCESS\u001b[0m\n",
      "\u001b[32m2023-05-11 17:26:47.396\u001b[0m | \u001b[34m\u001b[1mDEBUG   \u001b[0m | \u001b[36m__main__\u001b[0m:\u001b[36m<module>\u001b[0m:\u001b[36m2\u001b[0m - \u001b[34m\u001b[1mСообщение об ошибке уровня DEBUG\u001b[0m\n",
      "\u001b[32m2023-05-11 17:26:47.398\u001b[0m | \u001b[1mINFO    \u001b[0m | \u001b[36m__main__\u001b[0m:\u001b[36m<module>\u001b[0m:\u001b[36m3\u001b[0m - \u001b[1mИнформация INFO\u001b[0m\n",
      "\u001b[32m2023-05-11 17:26:47.399\u001b[0m | \u001b[33m\u001b[1mWARNING \u001b[0m | \u001b[36m__main__\u001b[0m:\u001b[36m<module>\u001b[0m:\u001b[36m4\u001b[0m - \u001b[33m\u001b[1mПредупреждение WARNING\u001b[0m\n",
      "\u001b[32m2023-05-11 17:26:47.400\u001b[0m | \u001b[31m\u001b[1mERROR   \u001b[0m | \u001b[36m__main__\u001b[0m:\u001b[36m<module>\u001b[0m:\u001b[36m5\u001b[0m - \u001b[31m\u001b[1mСообщение об ошибке уровня ERROR\u001b[0m\n",
      "\u001b[32m2023-05-11 17:26:47.401\u001b[0m | \u001b[41m\u001b[1mCRITICAL\u001b[0m | \u001b[36m__main__\u001b[0m:\u001b[36m<module>\u001b[0m:\u001b[36m6\u001b[0m - \u001b[41m\u001b[1mСообщение об ошибке уровня CRITICAL\u001b[0m\n"
     ]
    }
   ],
   "source": [
    "logger.success(\"Успешное завершение работы функции SUCCESS\")\n",
    "logger.debug(\"Сообщение об ошибке уровня DEBUG\")\n",
    "logger.info(\"Информация INFO\")\n",
    "logger.warning(\"Предупреждение WARNING\")\n",
    "logger.error(\"Сообщение об ошибке уровня ERROR\")\n",
    "logger.critical(\"Сообщение об ошибке уровня CRITICAL\")\n"
   ]
  },
  {
   "cell_type": "markdown",
   "id": "075b31f3",
   "metadata": {},
   "source": [
    "## Отловит ошибки через декоратор"
   ]
  },
  {
   "cell_type": "code",
   "execution_count": 13,
   "id": "3888f841",
   "metadata": {},
   "outputs": [
    {
     "name": "stderr",
     "output_type": "stream",
     "text": [
      "\u001b[32m2023-05-11 17:37:55.983\u001b[0m | \u001b[31m\u001b[1mERROR   \u001b[0m | \u001b[36m__main__\u001b[0m:\u001b[36m<module>\u001b[0m:\u001b[36m8\u001b[0m - \u001b[31m\u001b[1mAn error has been caught in function '<module>', process 'MainProcess' (77296), thread 'MainThread' (139656602007360):\u001b[0m\n",
      "\u001b[33m\u001b[1mTraceback (most recent call last):\u001b[0m\n",
      "\n",
      "  File \"/usr/lib/python3.10/runpy.py\", line 196, in _run_module_as_main\n",
      "    return _run_code(code, main_globals, None,\n",
      "           │         │     └ {'__name__': '__main__', '__doc__': 'Entry point for launching an IPython kernel.\\n\\nThis is separate from the ipykernel pack...\n",
      "           │         └ <code object <module> at 0x7f045579ea20, file \"/home/sam/.local/lib/python3.10/site-packages/ipykernel_launcher.py\", line 1>\n",
      "           └ <function _run_code at 0x7f04557e7be0>\n",
      "  File \"/usr/lib/python3.10/runpy.py\", line 86, in _run_code\n",
      "    exec(code, run_globals)\n",
      "         │     └ {'__name__': '__main__', '__doc__': 'Entry point for launching an IPython kernel.\\n\\nThis is separate from the ipykernel pack...\n",
      "         └ <code object <module> at 0x7f045579ea20, file \"/home/sam/.local/lib/python3.10/site-packages/ipykernel_launcher.py\", line 1>\n",
      "  File \"/home/sam/.local/lib/python3.10/site-packages/ipykernel_launcher.py\", line 17, in <module>\n",
      "    app.launch_new_instance()\n",
      "    │   └ <bound method Application.launch_instance of <class 'ipykernel.kernelapp.IPKernelApp'>>\n",
      "    └ <module 'ipykernel.kernelapp' from '/home/sam/.local/lib/python3.10/site-packages/ipykernel/kernelapp.py'>\n",
      "  File \"/home/sam/.local/lib/python3.10/site-packages/traitlets/config/application.py\", line 1041, in launch_instance\n",
      "    app.start()\n",
      "    │   └ <function IPKernelApp.start at 0x7f0452bbbac0>\n",
      "    └ <ipykernel.kernelapp.IPKernelApp object at 0x7f045575b190>\n",
      "  File \"/home/sam/.local/lib/python3.10/site-packages/ipykernel/kernelapp.py\", line 725, in start\n",
      "    self.io_loop.start()\n",
      "    │    │       └ <function BaseAsyncIOLoop.start at 0x7f0452c104c0>\n",
      "    │    └ <tornado.platform.asyncio.AsyncIOMainLoop object at 0x7f0452bee5f0>\n",
      "    └ <ipykernel.kernelapp.IPKernelApp object at 0x7f045575b190>\n",
      "  File \"/home/sam/.local/lib/python3.10/site-packages/tornado/platform/asyncio.py\", line 195, in start\n",
      "    self.asyncio_loop.run_forever()\n",
      "    │    │            └ <function BaseEventLoop.run_forever at 0x7f0454d8e440>\n",
      "    │    └ <_UnixSelectorEventLoop running=True closed=False debug=False>\n",
      "    └ <tornado.platform.asyncio.AsyncIOMainLoop object at 0x7f0452bee5f0>\n",
      "  File \"/usr/lib/python3.10/asyncio/base_events.py\", line 603, in run_forever\n",
      "    self._run_once()\n",
      "    │    └ <function BaseEventLoop._run_once at 0x7f0454d8ff40>\n",
      "    └ <_UnixSelectorEventLoop running=True closed=False debug=False>\n",
      "  File \"/usr/lib/python3.10/asyncio/base_events.py\", line 1909, in _run_once\n",
      "    handle._run()\n",
      "    │      └ <function Handle._run at 0x7f0454d33910>\n",
      "    └ <Handle Task.task_wakeup(<Future finis...e80>, ...],))>)>\n",
      "  File \"/usr/lib/python3.10/asyncio/events.py\", line 80, in _run\n",
      "    self._context.run(self._callback, *self._args)\n",
      "    │    │            │    │           │    └ <member '_args' of 'Handle' objects>\n",
      "    │    │            │    │           └ <Handle Task.task_wakeup(<Future finis...e80>, ...],))>)>\n",
      "    │    │            │    └ <member '_callback' of 'Handle' objects>\n",
      "    │    │            └ <Handle Task.task_wakeup(<Future finis...e80>, ...],))>)>\n",
      "    │    └ <member '_context' of 'Handle' objects>\n",
      "    └ <Handle Task.task_wakeup(<Future finis...e80>, ...],))>)>\n",
      "  File \"/home/sam/.local/lib/python3.10/site-packages/ipykernel/kernelbase.py\", line 513, in dispatch_queue\n",
      "    await self.process_one()\n",
      "          │    └ <function Kernel.process_one at 0x7f0453016680>\n",
      "          └ <ipykernel.ipkernel.IPythonKernel object at 0x7f0452beda20>\n",
      "  File \"/home/sam/.local/lib/python3.10/site-packages/ipykernel/kernelbase.py\", line 502, in process_one\n",
      "    await dispatch(*args)\n",
      "          │         └ ([<zmq.sugar.frame.Frame object at 0x7f0454505900>, <zmq.sugar.frame.Frame object at 0x7f0451a53cc0>, <zmq.sugar.frame.Frame ...\n",
      "          └ <bound method Kernel.dispatch_shell of <ipykernel.ipkernel.IPythonKernel object at 0x7f0452beda20>>\n",
      "  File \"/home/sam/.local/lib/python3.10/site-packages/ipykernel/kernelbase.py\", line 409, in dispatch_shell\n",
      "    await result\n",
      "          └ <coroutine object Kernel.execute_request at 0x7f0440eeca50>\n",
      "  File \"/home/sam/.local/lib/python3.10/site-packages/ipykernel/kernelbase.py\", line 729, in execute_request\n",
      "    reply_content = await reply_content\n",
      "                          └ <coroutine object IPythonKernel.do_execute at 0x7f0440eec900>\n",
      "  File \"/home/sam/.local/lib/python3.10/site-packages/ipykernel/ipkernel.py\", line 422, in do_execute\n",
      "    res = shell.run_cell(\n",
      "          │     └ <function ZMQInteractiveShell.run_cell at 0x7f0452bb93f0>\n",
      "          └ <ipykernel.zmqshell.ZMQInteractiveShell object at 0x7f0452beec80>\n",
      "  File \"/home/sam/.local/lib/python3.10/site-packages/ipykernel/zmqshell.py\", line 540, in run_cell\n",
      "    return super().run_cell(*args, **kwargs)\n",
      "                             │       └ {'store_history': True, 'silent': False, 'cell_id': None}\n",
      "                             └ ('a = \"letters\"\\nb = 123\\n\\n@logger.catch\\ndef message(a, b):\\n    final_message = a + b\\n\\nmessage(a, b)',)\n",
      "  File \"/home/sam/.local/lib/python3.10/site-packages/IPython/core/interactiveshell.py\", line 2945, in run_cell\n",
      "    result = self._run_cell(\n",
      "             │    └ <function InteractiveShell._run_cell at 0x7f0453ba6680>\n",
      "             └ <ipykernel.zmqshell.ZMQInteractiveShell object at 0x7f0452beec80>\n",
      "  File \"/home/sam/.local/lib/python3.10/site-packages/IPython/core/interactiveshell.py\", line 3000, in _run_cell\n",
      "    return runner(coro)\n",
      "           │      └ <coroutine object InteractiveShell.run_cell_async at 0x7f0440eec740>\n",
      "           └ <function _pseudo_sync_runner at 0x7f0453b8a050>\n",
      "  File \"/home/sam/.local/lib/python3.10/site-packages/IPython/core/async_helpers.py\", line 129, in _pseudo_sync_runner\n",
      "    coro.send(None)\n",
      "    │    └ <method 'send' of 'coroutine' objects>\n",
      "    └ <coroutine object InteractiveShell.run_cell_async at 0x7f0440eec740>\n",
      "  File \"/home/sam/.local/lib/python3.10/site-packages/IPython/core/interactiveshell.py\", line 3203, in run_cell_async\n",
      "    has_raised = await self.run_ast_nodes(code_ast.body, cell_name,\n",
      "                       │    │             │        │     └ '/tmp/ipykernel_77296/1058974313.py'\n",
      "                       │    │             │        └ [<ast.Assign object at 0x7f0450186e60>, <ast.Assign object at 0x7f04501859c0>, <ast.FunctionDef object at 0x7f0450185ae0>, <a...\n",
      "                       │    │             └ <ast.Module object at 0x7f0450186aa0>\n",
      "                       │    └ <function InteractiveShell.run_ast_nodes at 0x7f0453ba6950>\n",
      "                       └ <ipykernel.zmqshell.ZMQInteractiveShell object at 0x7f0452beec80>\n",
      "  File \"/home/sam/.local/lib/python3.10/site-packages/IPython/core/interactiveshell.py\", line 3382, in run_ast_nodes\n",
      "    if await self.run_code(code, result, async_=asy):\n",
      "             │    │        │     │              └ False\n",
      "             │    │        │     └ <ExecutionResult object at 7f0450186cb0, execution_count=13 error_before_exec=None error_in_exec=None info=<ExecutionInfo obj...\n",
      "             │    │        └ <code object <module> at 0x7f0440d46ce0, file \"/tmp/ipykernel_77296/1058974313.py\", line 1>\n",
      "             │    └ <function InteractiveShell.run_code at 0x7f0453ba69e0>\n",
      "             └ <ipykernel.zmqshell.ZMQInteractiveShell object at 0x7f0452beec80>\n",
      "  File \"/home/sam/.local/lib/python3.10/site-packages/IPython/core/interactiveshell.py\", line 3442, in run_code\n",
      "    exec(code_obj, self.user_global_ns, self.user_ns)\n",
      "         │         │    │               │    └ {'__name__': '__main__', '__doc__': 'Automatically created module for IPython interactive environment', '__package__': None, ...\n",
      "         │         │    │               └ <ipykernel.zmqshell.ZMQInteractiveShell object at 0x7f0452beec80>\n",
      "         │         │    └ <property object at 0x7f0453b91990>\n",
      "         │         └ <ipykernel.zmqshell.ZMQInteractiveShell object at 0x7f0452beec80>\n",
      "         └ <code object <module> at 0x7f0440d46ce0, file \"/tmp/ipykernel_77296/1058974313.py\", line 1>\n",
      "\n",
      "> File \"\u001b[32m/tmp/ipykernel_77296/\u001b[0m\u001b[32m\u001b[1m1058974313.py\u001b[0m\", line \u001b[33m8\u001b[0m, in \u001b[35m<module>\u001b[0m\n",
      "    \u001b[1mmessage\u001b[0m\u001b[1m(\u001b[0m\u001b[1ma\u001b[0m\u001b[1m,\u001b[0m \u001b[1mb\u001b[0m\u001b[1m)\u001b[0m\n",
      "    \u001b[36m│       │  └ \u001b[0m\u001b[36m\u001b[1m123\u001b[0m\n",
      "    \u001b[36m│       └ \u001b[0m\u001b[36m\u001b[1m'letters'\u001b[0m\n",
      "    \u001b[36m└ \u001b[0m\u001b[36m\u001b[1m<function message at 0x7f0440ddf400>\u001b[0m\n",
      "\n",
      "  File \"\u001b[32m/tmp/ipykernel_77296/\u001b[0m\u001b[32m\u001b[1m1058974313.py\u001b[0m\", line \u001b[33m6\u001b[0m, in \u001b[35mmessage\u001b[0m\n",
      "    \u001b[1mfinal_message\u001b[0m \u001b[35m\u001b[1m=\u001b[0m \u001b[1ma\u001b[0m \u001b[35m\u001b[1m+\u001b[0m \u001b[1mb\u001b[0m\n",
      "    \u001b[36m                │   └ \u001b[0m\u001b[36m\u001b[1m123\u001b[0m\n",
      "    \u001b[36m                └ \u001b[0m\u001b[36m\u001b[1m'letters'\u001b[0m\n",
      "\n",
      "\u001b[31m\u001b[1mTypeError\u001b[0m:\u001b[1m can only concatenate str (not \"int\") to str\u001b[0m\n"
     ]
    }
   ],
   "source": [
    "a = \"letters\"\n",
    "b = 123\n",
    "\n",
    "@logger.catch\n",
    "def message(a, b):\n",
    "    final_message = a + b\n",
    "\n",
    "message(a, b)"
   ]
  },
  {
   "cell_type": "markdown",
   "id": "99725a98",
   "metadata": {},
   "source": [
    "## Логгирование в файл"
   ]
  },
  {
   "cell_type": "code",
   "execution_count": 14,
   "id": "7860f427",
   "metadata": {},
   "outputs": [
    {
     "name": "stderr",
     "output_type": "stream",
     "text": [
      "\u001b[32m2023-05-11 17:47:42.812\u001b[0m | \u001b[31m\u001b[1mERROR   \u001b[0m | \u001b[36m__main__\u001b[0m:\u001b[36m<module>\u001b[0m:\u001b[36m17\u001b[0m - \u001b[31m\u001b[1mAn error has been caught in function '<module>', process 'MainProcess' (77296), thread 'MainThread' (139656602007360):\u001b[0m\n",
      "\u001b[33m\u001b[1mTraceback (most recent call last):\u001b[0m\n",
      "\n",
      "  File \"/usr/lib/python3.10/runpy.py\", line 196, in _run_module_as_main\n",
      "    return _run_code(code, main_globals, None,\n",
      "           │         │     └ {'__name__': '__main__', '__doc__': 'Entry point for launching an IPython kernel.\\n\\nThis is separate from the ipykernel pack...\n",
      "           │         └ <code object <module> at 0x7f045579ea20, file \"/home/sam/.local/lib/python3.10/site-packages/ipykernel_launcher.py\", line 1>\n",
      "           └ <function _run_code at 0x7f04557e7be0>\n",
      "  File \"/usr/lib/python3.10/runpy.py\", line 86, in _run_code\n",
      "    exec(code, run_globals)\n",
      "         │     └ {'__name__': '__main__', '__doc__': 'Entry point for launching an IPython kernel.\\n\\nThis is separate from the ipykernel pack...\n",
      "         └ <code object <module> at 0x7f045579ea20, file \"/home/sam/.local/lib/python3.10/site-packages/ipykernel_launcher.py\", line 1>\n",
      "  File \"/home/sam/.local/lib/python3.10/site-packages/ipykernel_launcher.py\", line 17, in <module>\n",
      "    app.launch_new_instance()\n",
      "    │   └ <bound method Application.launch_instance of <class 'ipykernel.kernelapp.IPKernelApp'>>\n",
      "    └ <module 'ipykernel.kernelapp' from '/home/sam/.local/lib/python3.10/site-packages/ipykernel/kernelapp.py'>\n",
      "  File \"/home/sam/.local/lib/python3.10/site-packages/traitlets/config/application.py\", line 1041, in launch_instance\n",
      "    app.start()\n",
      "    │   └ <function IPKernelApp.start at 0x7f0452bbbac0>\n",
      "    └ <ipykernel.kernelapp.IPKernelApp object at 0x7f045575b190>\n",
      "  File \"/home/sam/.local/lib/python3.10/site-packages/ipykernel/kernelapp.py\", line 725, in start\n",
      "    self.io_loop.start()\n",
      "    │    │       └ <function BaseAsyncIOLoop.start at 0x7f0452c104c0>\n",
      "    │    └ <tornado.platform.asyncio.AsyncIOMainLoop object at 0x7f0452bee5f0>\n",
      "    └ <ipykernel.kernelapp.IPKernelApp object at 0x7f045575b190>\n",
      "  File \"/home/sam/.local/lib/python3.10/site-packages/tornado/platform/asyncio.py\", line 195, in start\n",
      "    self.asyncio_loop.run_forever()\n",
      "    │    │            └ <function BaseEventLoop.run_forever at 0x7f0454d8e440>\n",
      "    │    └ <_UnixSelectorEventLoop running=True closed=False debug=False>\n",
      "    └ <tornado.platform.asyncio.AsyncIOMainLoop object at 0x7f0452bee5f0>\n",
      "  File \"/usr/lib/python3.10/asyncio/base_events.py\", line 603, in run_forever\n",
      "    self._run_once()\n",
      "    │    └ <function BaseEventLoop._run_once at 0x7f0454d8ff40>\n",
      "    └ <_UnixSelectorEventLoop running=True closed=False debug=False>\n",
      "  File \"/usr/lib/python3.10/asyncio/base_events.py\", line 1909, in _run_once\n",
      "    handle._run()\n",
      "    │      └ <function Handle._run at 0x7f0454d33910>\n",
      "    └ <Handle Task.task_wakeup(<Future finis...e80>, ...],))>)>\n",
      "  File \"/usr/lib/python3.10/asyncio/events.py\", line 80, in _run\n",
      "    self._context.run(self._callback, *self._args)\n",
      "    │    │            │    │           │    └ <member '_args' of 'Handle' objects>\n",
      "    │    │            │    │           └ <Handle Task.task_wakeup(<Future finis...e80>, ...],))>)>\n",
      "    │    │            │    └ <member '_callback' of 'Handle' objects>\n",
      "    │    │            └ <Handle Task.task_wakeup(<Future finis...e80>, ...],))>)>\n",
      "    │    └ <member '_context' of 'Handle' objects>\n",
      "    └ <Handle Task.task_wakeup(<Future finis...e80>, ...],))>)>\n",
      "  File \"/home/sam/.local/lib/python3.10/site-packages/ipykernel/kernelbase.py\", line 513, in dispatch_queue\n",
      "    await self.process_one()\n",
      "          │    └ <function Kernel.process_one at 0x7f0453016680>\n",
      "          └ <ipykernel.ipkernel.IPythonKernel object at 0x7f0452beda20>\n",
      "  File \"/home/sam/.local/lib/python3.10/site-packages/ipykernel/kernelbase.py\", line 502, in process_one\n",
      "    await dispatch(*args)\n",
      "          │         └ ([<zmq.sugar.frame.Frame object at 0x7f0454505900>, <zmq.sugar.frame.Frame object at 0x7f0451a53cc0>, <zmq.sugar.frame.Frame ...\n",
      "          └ <bound method Kernel.dispatch_shell of <ipykernel.ipkernel.IPythonKernel object at 0x7f0452beda20>>\n",
      "  File \"/home/sam/.local/lib/python3.10/site-packages/ipykernel/kernelbase.py\", line 409, in dispatch_shell\n",
      "    await result\n",
      "          └ <coroutine object Kernel.execute_request at 0x7f0440eecb30>\n",
      "  File \"/home/sam/.local/lib/python3.10/site-packages/ipykernel/kernelbase.py\", line 729, in execute_request\n",
      "    reply_content = await reply_content\n",
      "                          └ <coroutine object IPythonKernel.do_execute at 0x7f0440eec900>\n",
      "  File \"/home/sam/.local/lib/python3.10/site-packages/ipykernel/ipkernel.py\", line 422, in do_execute\n",
      "    res = shell.run_cell(\n",
      "          │     └ <function ZMQInteractiveShell.run_cell at 0x7f0452bb93f0>\n",
      "          └ <ipykernel.zmqshell.ZMQInteractiveShell object at 0x7f0452beec80>\n",
      "  File \"/home/sam/.local/lib/python3.10/site-packages/ipykernel/zmqshell.py\", line 540, in run_cell\n",
      "    return super().run_cell(*args, **kwargs)\n",
      "                             │       └ {'store_history': True, 'silent': False, 'cell_id': None}\n",
      "                             └ ('# запишет в файл loguru с таймстэмпом ошибку\\nlogger.add(                                                                  ...\n",
      "  File \"/home/sam/.local/lib/python3.10/site-packages/IPython/core/interactiveshell.py\", line 2945, in run_cell\n",
      "    result = self._run_cell(\n",
      "             │    └ <function InteractiveShell._run_cell at 0x7f0453ba6680>\n",
      "             └ <ipykernel.zmqshell.ZMQInteractiveShell object at 0x7f0452beec80>\n",
      "  File \"/home/sam/.local/lib/python3.10/site-packages/IPython/core/interactiveshell.py\", line 3000, in _run_cell\n",
      "    return runner(coro)\n",
      "           │      └ <coroutine object InteractiveShell.run_cell_async at 0x7f0440eec5f0>\n",
      "           └ <function _pseudo_sync_runner at 0x7f0453b8a050>\n",
      "  File \"/home/sam/.local/lib/python3.10/site-packages/IPython/core/async_helpers.py\", line 129, in _pseudo_sync_runner\n",
      "    coro.send(None)\n",
      "    │    └ <method 'send' of 'coroutine' objects>\n",
      "    └ <coroutine object InteractiveShell.run_cell_async at 0x7f0440eec5f0>\n",
      "  File \"/home/sam/.local/lib/python3.10/site-packages/IPython/core/interactiveshell.py\", line 3203, in run_cell_async\n",
      "    has_raised = await self.run_ast_nodes(code_ast.body, cell_name,\n",
      "                       │    │             │        │     └ '/tmp/ipykernel_77296/2513798731.py'\n",
      "                       │    │             │        └ [<ast.Expr object at 0x7f0450193fa0>, <ast.FunctionDef object at 0x7f0450193790>, <ast.FunctionDef object at 0x7f0450193550>,...\n",
      "                       │    │             └ <ast.Module object at 0x7f0450193d30>\n",
      "                       │    └ <function InteractiveShell.run_ast_nodes at 0x7f0453ba6950>\n",
      "                       └ <ipykernel.zmqshell.ZMQInteractiveShell object at 0x7f0452beec80>\n",
      "  File \"/home/sam/.local/lib/python3.10/site-packages/IPython/core/interactiveshell.py\", line 3382, in run_ast_nodes\n",
      "    if await self.run_code(code, result, async_=asy):\n",
      "             │    │        │     │              └ False\n",
      "             │    │        │     └ <ExecutionResult object at 7f0450185b70, execution_count=14 error_before_exec=None error_in_exec=None info=<ExecutionInfo obj...\n",
      "             │    │        └ <code object <module> at 0x7f0440d47520, file \"/tmp/ipykernel_77296/2513798731.py\", line 1>\n",
      "             │    └ <function InteractiveShell.run_code at 0x7f0453ba69e0>\n",
      "             └ <ipykernel.zmqshell.ZMQInteractiveShell object at 0x7f0452beec80>\n",
      "  File \"/home/sam/.local/lib/python3.10/site-packages/IPython/core/interactiveshell.py\", line 3442, in run_code\n",
      "    exec(code_obj, self.user_global_ns, self.user_ns)\n",
      "         │         │    │               │    └ {'__name__': '__main__', '__doc__': 'Automatically created module for IPython interactive environment', '__package__': None, ...\n",
      "         │         │    │               └ <ipykernel.zmqshell.ZMQInteractiveShell object at 0x7f0452beec80>\n",
      "         │         │    └ <property object at 0x7f0453b91990>\n",
      "         │         └ <ipykernel.zmqshell.ZMQInteractiveShell object at 0x7f0452beec80>\n",
      "         └ <code object <module> at 0x7f0440d47520, file \"/tmp/ipykernel_77296/2513798731.py\", line 1>\n",
      "\n",
      "> File \"\u001b[32m/tmp/ipykernel_77296/\u001b[0m\u001b[32m\u001b[1m2513798731.py\u001b[0m\", line \u001b[33m17\u001b[0m, in \u001b[35m<module>\u001b[0m\n",
      "    \u001b[1mmain\u001b[0m\u001b[1m(\u001b[0m\u001b[1m)\u001b[0m\n",
      "    \u001b[36m└ \u001b[0m\u001b[36m\u001b[1m<function main at 0x7f0440d3c3a0>\u001b[0m\n",
      "\n",
      "  File \"\u001b[32m/tmp/ipykernel_77296/\u001b[0m\u001b[32m\u001b[1m2513798731.py\u001b[0m\", line \u001b[33m15\u001b[0m, in \u001b[35mmain\u001b[0m\n",
      "    \u001b[1mdivide\u001b[0m\u001b[1m(\u001b[0m\u001b[34m\u001b[1m9\u001b[0m\u001b[1m,\u001b[0m \u001b[34m\u001b[1m0\u001b[0m\u001b[1m)\u001b[0m\n",
      "    \u001b[36m└ \u001b[0m\u001b[36m\u001b[1m<function divide at 0x7f0452c13ac0>\u001b[0m\n",
      "\n",
      "  File \"\u001b[32m/tmp/ipykernel_77296/\u001b[0m\u001b[32m\u001b[1m2513798731.py\u001b[0m\", line \u001b[33m11\u001b[0m, in \u001b[35mdivide\u001b[0m\n",
      "    \u001b[35m\u001b[1mreturn\u001b[0m \u001b[1ma\u001b[0m \u001b[35m\u001b[1m/\u001b[0m \u001b[1mb\u001b[0m\n",
      "    \u001b[36m       │   └ \u001b[0m\u001b[36m\u001b[1m0\u001b[0m\n",
      "    \u001b[36m       └ \u001b[0m\u001b[36m\u001b[1m9\u001b[0m\n",
      "\n",
      "\u001b[31m\u001b[1mZeroDivisionError\u001b[0m:\u001b[1m division by zero\u001b[0m\n"
     ]
    }
   ],
   "source": [
    "# запишет в файл loguru с таймстэмпом ошибку\n",
    "logger.add(                                                                     \n",
    "    \"loguru_{time}.log\",                                                       \n",
    "    format=\"{time}, {level}, {message}\",                                        \n",
    "    level=\"ERROR\",                                                              \n",
    "    rotation=\"00:00\",                                                           \n",
    "    compression=\"zip\",                                                          \n",
    ")  \n",
    "\n",
    "# rotation=\"00:00\" лог-файл обновляется в полночь\n",
    "# compression=\"zip\" лог-файл сохраняется в zip-архив\n",
    "\n",
    "\n",
    "def divide(a, b):                                                               \n",
    "    return a / b                                                                \n",
    "                                                                                \n",
    "@logger.catch                                                                   \n",
    "def main():                                                                     \n",
    "    divide(9, 0)                                                                \n",
    "                                                                                \n",
    "main() "
   ]
  },
  {
   "cell_type": "markdown",
   "id": "25ec42a2",
   "metadata": {},
   "source": [
    "[Loguru - страница проекта](https://github.com/Delgan/loguru)"
   ]
  },
  {
   "cell_type": "markdown",
   "id": "4723b20c",
   "metadata": {},
   "source": [
    "- *автор [Сергей Самойлов](https://github.com/sergey-samoylov)*"
   ]
  }
 ],
 "metadata": {
  "kernelspec": {
   "display_name": "Python 3 (ipykernel)",
   "language": "python",
   "name": "python3"
  },
  "language_info": {
   "codemirror_mode": {
    "name": "ipython",
    "version": 3
   },
   "file_extension": ".py",
   "mimetype": "text/x-python",
   "name": "python",
   "nbconvert_exporter": "python",
   "pygments_lexer": "ipython3",
   "version": "3.10.10"
  }
 },
 "nbformat": 4,
 "nbformat_minor": 5
}
