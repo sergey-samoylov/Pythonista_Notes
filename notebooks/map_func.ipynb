{
 "cells": [
  {
   "cell_type": "markdown",
   "id": "2977c4f1",
   "metadata": {},
   "source": [
    "# Мощь и сила функции map(my_func, ...)"
   ]
  },
  {
   "cell_type": "markdown",
   "id": "7e59c534",
   "metadata": {},
   "source": [
    "#### Записки Pythonista"
   ]
  },
  {
   "cell_type": "markdown",
   "id": "58eb6057",
   "metadata": {},
   "source": [
    "Если *lamda* все восхищаются, то *map* многими недооценена. А это - мощнейшая функция, которая управляет другими функциями в Python.\n",
    "\n",
    "Первым аргументом она принимает в себя... \n",
    "\n",
    "#### ЛЮБУЮ другую функцию. \n",
    "\n",
    "Не только стандартные:\n",
    "\n",
    "map(int, ...)\n",
    "\n",
    "map(str, ...)\n",
    "\n",
    "Но и такие конструкции:\n",
    "\n",
    "## map(your_func, iterable)"
   ]
  },
  {
   "cell_type": "markdown",
   "id": "430de977",
   "metadata": {},
   "source": [
    "Предположим, у нас есть кортеж с цифрами. "
   ]
  },
  {
   "cell_type": "markdown",
   "id": "71a5d3b3",
   "metadata": {},
   "source": [
    "$$(2, 3, 4, 5)$$"
   ]
  },
  {
   "cell_type": "markdown",
   "id": "59ed2b7a",
   "metadata": {},
   "source": [
    "> Надо каждое возвести в степень равную цифрам обратной последовательности того самого кортежа."
   ]
  },
  {
   "cell_type": "markdown",
   "id": "ea69a60e",
   "metadata": {},
   "source": [
    "$$2^5, 3^4, 4^3, 5^2$$"
   ]
  },
  {
   "cell_type": "code",
   "execution_count": 14,
   "id": "7140f75e",
   "metadata": {},
   "outputs": [
    {
     "name": "stdout",
     "output_type": "stream",
     "text": [
      "[32, 81, 64, 25]\n"
     ]
    }
   ],
   "source": [
    "a = (2, 3, 4, 5)\n",
    "s = (2 ** 5, 3 ** 4, 4 ** 3, 5 ** 2)\n",
    "print(list(s))\n"
   ]
  },
  {
   "cell_type": "code",
   "execution_count": 15,
   "id": "f0428e59",
   "metadata": {},
   "outputs": [
    {
     "name": "stdout",
     "output_type": "stream",
     "text": [
      "[32, 81, 64, 25]\n"
     ]
    }
   ],
   "source": [
    "def back_sqrt(x, y):\n",
    "    return x ** y\n",
    "  \n",
    "a = (2, 3, 4, 5)\n",
    "b = a[::-1]\n",
    "\n",
    "s = map(back_sqrt, a, b)\n",
    "print(list(s))"
   ]
  },
  {
   "cell_type": "markdown",
   "id": "5419d41a",
   "metadata": {},
   "source": [
    "Можно и через lambda эту задачу решить. К примеру, так:"
   ]
  },
  {
   "cell_type": "code",
   "execution_count": 16,
   "id": "c2aab4f4",
   "metadata": {},
   "outputs": [
    {
     "name": "stdout",
     "output_type": "stream",
     "text": [
      "[32, 81, 64, 25]\n"
     ]
    }
   ],
   "source": [
    "x = lambda a, b: a ** b\n",
    "\n",
    "a = (2, 3, 4, 5)\n",
    "b = a[::-1]\n",
    "\n",
    "y = (x(a[i], b[i]) for i in range(len(a)))\n",
    "print(list(y))"
   ]
  },
  {
   "cell_type": "markdown",
   "id": "4770c370",
   "metadata": {},
   "source": [
    "Мне проще запомнить map и lambda в паре. Они - как зеркальные отражения друг друга.\n",
    "\n",
    "Map - управляет функциями и итерируемыми объектами.\n",
    "\n",
    "Lambda - проявляет силу, когда сама встраивается в другие функции."
   ]
  },
  {
   "cell_type": "code",
   "execution_count": 17,
   "id": "7af5c493",
   "metadata": {},
   "outputs": [
    {
     "name": "stdout",
     "output_type": "stream",
     "text": [
      "[[4, 6, 1, 5], [5, 4, 1, 5]]\n"
     ]
    }
   ],
   "source": [
    "# Задача: посчитать буквы в каждом слове каждой строки списка\n",
    "translation = [\n",
    "    'Pedo Mellon A Minno',\n",
    "    'Скажи Друг И Войди'\n",
    "]\n",
    "\n",
    "# Поскольку map итерируется по каждому элементу, пишем функцию для одной строки:\n",
    "\n",
    "def len_words_count(single_line):\n",
    "    words_lst = single_line.split() # получаем список слов из строки\n",
    "    num_letters_in_words = (len(word) for word in words_lst) #генератор подсчитывает буквы\n",
    "    return list(num_letters_in_words) #на выходе получаем количество букв каждого слова строки\n",
    "\n",
    "\"\"\" А теперь - магия!\n",
    "map использует нашу len_words_count(), проходится ей по каждой строке translation\n",
    "результат помещает в список\"\"\"\n",
    "letters_nums = list(map(len_words_count, translation))\n",
    "print(letters_nums)\n",
    "\n"
   ]
  },
  {
   "cell_type": "markdown",
   "id": "8068ef69",
   "metadata": {},
   "source": [
    "- *автор [Сергей Самойлов](https://github.com/sergey-samoylov)*"
   ]
  }
 ],
 "metadata": {
  "kernelspec": {
   "display_name": "Python 3 (ipykernel)",
   "language": "python",
   "name": "python3"
  },
  "language_info": {
   "codemirror_mode": {
    "name": "ipython",
    "version": 3
   },
   "file_extension": ".py",
   "mimetype": "text/x-python",
   "name": "python",
   "nbconvert_exporter": "python",
   "pygments_lexer": "ipython3",
   "version": "3.10.10"
  }
 },
 "nbformat": 4,
 "nbformat_minor": 5
}
