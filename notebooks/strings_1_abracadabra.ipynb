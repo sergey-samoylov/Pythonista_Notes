{
 "cells": [
  {
   "cell_type": "markdown",
   "id": "12a21681",
   "metadata": {},
   "source": [
    "# АБРАКАДАБРА РЕГУЛЯРОК СТРОК"
   ]
  },
  {
   "cell_type": "markdown",
   "id": "57dc278a",
   "metadata": {},
   "source": [
    "#### Записки Pythonista"
   ]
  },
  {
   "cell_type": "code",
   "execution_count": 27,
   "id": "b981dcfb",
   "metadata": {},
   "outputs": [
    {
     "data": {
      "text/plain": [
       "'abracadabra'"
      ]
     },
     "execution_count": 27,
     "metadata": {},
     "output_type": "execute_result"
    }
   ],
   "source": [
    "'{0}{1}{0}'.format('abra', 'cad')"
   ]
  },
  {
   "cell_type": "code",
   "execution_count": 28,
   "id": "be78604c",
   "metadata": {},
   "outputs": [
    {
     "name": "stdout",
     "output_type": "stream",
     "text": [
      "выводить текст на печать по дефолту... скучно\n",
      "Заголовок\n",
      "Настоящие питонисты умеют перемещать текст\n",
      "           Заголовок\n"
     ]
    }
   ],
   "source": [
    "text = \"Заголовок\"\n",
    "print(\"выводить текст на печать по дефолту... скучно\")\n",
    "print(text)\n",
    "print(\"Настоящие питонисты умеют перемещать текст\")\n",
    "print(text.rjust(20))"
   ]
  },
  {
   "cell_type": "code",
   "execution_count": 29,
   "id": "ee2b93b8",
   "metadata": {},
   "outputs": [
    {
     "name": "stdout",
     "output_type": "stream",
     "text": [
      "                               Заголовок в центре                               \n"
     ]
    }
   ],
   "source": [
    "text_center = \"Заголовок в центре\"\n",
    "print(text_center.center(80))"
   ]
  },
  {
   "cell_type": "code",
   "execution_count": 30,
   "id": "502370d3",
   "metadata": {},
   "outputs": [
    {
     "name": "stdout",
     "output_type": "stream",
     "text": [
      "=======================Заголовок в центре c \"украшениями\"=======================\n"
     ]
    }
   ],
   "source": [
    "text_center = 'Заголовок в центре c \\\"украшениями\\\"'\n",
    "print(text_center.center(80, '='))"
   ]
  },
  {
   "cell_type": "code",
   "execution_count": 31,
   "id": "3a59bf8e",
   "metadata": {},
   "outputs": [
    {
     "name": "stdout",
     "output_type": "stream",
     "text": [
      "Лево руля                               ljust = пробелы после нашего text_left\n"
     ]
    }
   ],
   "source": [
    "text_left = 'Лево руля'\n",
    "print(text_left.ljust(40) + \"ljust = пробелы после нашего text_left\")"
   ]
  },
  {
   "cell_type": "markdown",
   "id": "92fd0787",
   "metadata": {},
   "source": [
    "> **А теперь начинается магия f-строки и {абракадабра}**"
   ]
  },
  {
   "cell_type": "code",
   "execution_count": 32,
   "id": "e5f2a34f",
   "metadata": {},
   "outputs": [
    {
     "name": "stdout",
     "output_type": "stream",
     "text": [
      "                           F-строка == сила и мощь\n"
     ]
    }
   ],
   "source": [
    "text = \"F-строка == сила и мощь\"\n",
    "print(f\"{text:>50}\")\n",
    "# текст смещается на 50 символов в направлении >"
   ]
  },
  {
   "cell_type": "code",
   "execution_count": 33,
   "id": "874dbd92",
   "metadata": {},
   "outputs": [
    {
     "name": "stdout",
     "output_type": "stream",
     "text": [
      "F-строка - левый поворот**************************\n"
     ]
    }
   ],
   "source": [
    "text = \"F-строка - левый поворот\"\n",
    "print(f\"{text:*<50}\")\n",
    "#50 символов по левому борту"
   ]
  },
  {
   "cell_type": "code",
   "execution_count": 34,
   "id": "10cf89da",
   "metadata": {},
   "outputs": [
    {
     "name": "stdout",
     "output_type": "stream",
     "text": [
      "                                 ЦЕНТР - ЗДЕСЬ                                  \n"
     ]
    }
   ],
   "source": [
    "text = \"ЦЕНТР - ЗДЕСЬ\"\n",
    "print(f\"{text:^80}\")"
   ]
  },
  {
   "cell_type": "code",
   "execution_count": 35,
   "id": "7afa5b5d",
   "metadata": {},
   "outputs": [
    {
     "name": "stdout",
     "output_type": "stream",
     "text": [
      "$$$$$$$$$$ Добавим знаков - все в центр $$$$$$$$$$\n"
     ]
    }
   ],
   "source": [
    "text = \" Добавим знаков - все в центр \"\n",
    "print(f\"{text:$^50}\")"
   ]
  },
  {
   "cell_type": "markdown",
   "id": "4723b20c",
   "metadata": {},
   "source": [
    "- *автор [Сергей Самойлов](https://github.com/sergey-samoylov)*"
   ]
  }
 ],
 "metadata": {
  "kernelspec": {
   "display_name": "Python 3 (ipykernel)",
   "language": "python",
   "name": "python3"
  },
  "language_info": {
   "codemirror_mode": {
    "name": "ipython",
    "version": 3
   },
   "file_extension": ".py",
   "mimetype": "text/x-python",
   "name": "python",
   "nbconvert_exporter": "python",
   "pygments_lexer": "ipython3",
   "version": "3.10.10"
  }
 },
 "nbformat": 4,
 "nbformat_minor": 5
}
