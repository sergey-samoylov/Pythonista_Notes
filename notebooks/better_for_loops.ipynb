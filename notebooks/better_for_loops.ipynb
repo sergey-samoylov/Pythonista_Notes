{
 "cells": [
  {
   "cell_type": "markdown",
   "id": "989adf57",
   "metadata": {},
   "source": [
    "# В PYTHON НЕТ ЦИКЛА FOR"
   ]
  },
  {
   "cell_type": "markdown",
   "id": "8d377f9c",
   "metadata": {},
   "source": [
    "> Записки Pythonista"
   ]
  },
  {
   "cell_type": "markdown",
   "id": "6df8a282",
   "metadata": {},
   "source": [
    "Цикла for в Python не существует. В языке \"С\" есть for. А в Python - нет.  \n",
    "\n",
    "В Python используется цикл *for ... in ...*  \n",
    "Отличие радикальное есть! В Python нет классической индексации в цикле for. \n",
    "Итерация по умолчанию идет по каждому объекту.  \n",
    "\n",
    "Увеличение индекса происходит автоматически, под капотом."
   ]
  },
  {
   "cell_type": "markdown",
   "id": "b9638e3e",
   "metadata": {},
   "source": [
    "+ Функции лучше цикла"
   ]
  },
  {
   "cell_type": "code",
   "execution_count": 6,
   "id": "8ad4a7ec",
   "metadata": {},
   "outputs": [
    {
     "name": "stdout",
     "output_type": "stream",
     "text": [
      "for loop 15\n",
      "sum 15\n"
     ]
    }
   ],
   "source": [
    "# НЕ используй for loop - он медлительный.\n",
    "nums = (1, 2, 3, 4, 5)\n",
    "res = 0\n",
    "\n",
    "for i in nums:\n",
    "    res += i\n",
    "\n",
    "print(f\"for loop: {res}\")\n",
    "    \n",
    "# Если есть функция, она будет быстрее и короче for\n",
    "res = sum(nums)\n",
    "print(f\"sum: {res}\")"
   ]
  },
  {
   "cell_type": "markdown",
   "id": "4d01f00a",
   "metadata": {},
   "source": [
    "---"
   ]
  },
  {
   "cell_type": "code",
   "execution_count": 11,
   "id": "130b2c45",
   "metadata": {},
   "outputs": [
    {
     "name": "stdout",
     "output_type": "stream",
     "text": [
      "0 1\n",
      "1 2\n",
      "2 3\n",
      "3 4\n",
      "4 5\n"
     ]
    }
   ],
   "source": [
    "# Enumerate лучше range в for, если нужны индексы\n",
    "nums = (1, 2, 3, 4, 5)\n",
    "for i in range(len(nums)):\n",
    "    print(i, nums[i])\n"
   ]
  },
  {
   "cell_type": "code",
   "execution_count": 10,
   "id": "379ba968",
   "metadata": {},
   "outputs": [
    {
     "name": "stdout",
     "output_type": "stream",
     "text": [
      "1 1\n",
      "2 2\n",
      "3 3\n",
      "4 4\n",
      "5 5\n"
     ]
    }
   ],
   "source": [
    "nums = (1, 2, 3, 4, 5)\n",
    "for i, v in enumerate(nums, start=1):\n",
    "    print(i, v)"
   ]
  },
  {
   "cell_type": "markdown",
   "id": "4146a06d",
   "metadata": {},
   "source": [
    "___"
   ]
  },
  {
   "cell_type": "code",
   "execution_count": 13,
   "id": "3545cbbd",
   "metadata": {},
   "outputs": [
    {
     "name": "stdout",
     "output_type": "stream",
     "text": [
      "1 a\n",
      "2 b\n",
      "3 c\n"
     ]
    },
    {
     "ename": "IndexError",
     "evalue": "list index out of range",
     "output_type": "error",
     "traceback": [
      "\u001b[0;31m---------------------------------------------------------------------------\u001b[0m",
      "\u001b[0;31mIndexError\u001b[0m                                Traceback (most recent call last)",
      "Cell \u001b[0;32mIn[13], line 6\u001b[0m\n\u001b[1;32m      3\u001b[0m b \u001b[38;5;241m=\u001b[39m [\u001b[38;5;124m\"\u001b[39m\u001b[38;5;124ma\u001b[39m\u001b[38;5;124m\"\u001b[39m, \u001b[38;5;124m\"\u001b[39m\u001b[38;5;124mb\u001b[39m\u001b[38;5;124m\"\u001b[39m, \u001b[38;5;124m\"\u001b[39m\u001b[38;5;124mc\u001b[39m\u001b[38;5;124m\"\u001b[39m]\n\u001b[1;32m      5\u001b[0m \u001b[38;5;28;01mfor\u001b[39;00m i \u001b[38;5;129;01min\u001b[39;00m \u001b[38;5;28mrange\u001b[39m(\u001b[38;5;28mlen\u001b[39m(a)):\n\u001b[0;32m----> 6\u001b[0m     \u001b[38;5;28mprint\u001b[39m(a[i], \u001b[43mb\u001b[49m\u001b[43m[\u001b[49m\u001b[43mi\u001b[49m\u001b[43m]\u001b[49m)\n",
      "\u001b[0;31mIndexError\u001b[0m: list index out of range"
     ]
    }
   ],
   "source": [
    "# Zip надежнее for\n",
    "a = [1, 2, 3, 4] # при несовпадении длин списков получим ошибку\n",
    "b = [\"a\", \"b\", \"c\"]\n",
    "\n",
    "for i in range(len(a)):\n",
    "    print(a[i], b[i])"
   ]
  },
  {
   "cell_type": "code",
   "execution_count": 14,
   "id": "337e5891",
   "metadata": {},
   "outputs": [
    {
     "name": "stdout",
     "output_type": "stream",
     "text": [
      "1 a\n",
      "2 b\n",
      "3 c\n"
     ]
    }
   ],
   "source": [
    "a = [1, 2, 3, 4] # ошибки не будет, если через zip\n",
    "b = [\"a\", \"b\", \"c\"] # а если ошибка нужна, то \n",
    "\n",
    "for x, y in zip(a, b): # for x, y in zip(a,b, strict=True)\n",
    "    print(x, y)"
   ]
  },
  {
   "cell_type": "markdown",
   "id": "60b4dc9f",
   "metadata": {},
   "source": [
    "___"
   ]
  },
  {
   "cell_type": "code",
   "execution_count": 22,
   "id": "210ed036",
   "metadata": {},
   "outputs": [
    {
     "name": "stdout",
     "output_type": "stream",
     "text": [
      "min_learning 25\n",
      "min_study 25\n"
     ]
    }
   ],
   "source": [
    "# Генераторы лучше for\n",
    "events = [(\"учёба\", 5), (\"учёба\", 20), (\"отдых\", 15)]\n",
    "min_learning = 0\n",
    "for i in events:\n",
    "    if i[0] == \"учёба\":\n",
    "        min_learning += i[1]\n",
    "\n",
    "print(f\"min_learning {min_learning}\")\n",
    "\n",
    "# При помощи генератора будет так:\n",
    "min_study = sum(i[1] for i in events if i[0] == \"учёба\")\n",
    "print(f\"min_study {min_study}\")\n",
    "\n",
    "# (i[1] for i in events if i[0] == \"учёба\") - генератор не работает, \n",
    "# пока не попадает в функцию sum( lazy generator )"
   ]
  },
  {
   "cell_type": "markdown",
   "id": "3f9dda3a",
   "metadata": {},
   "source": [
    "___"
   ]
  },
  {
   "cell_type": "code",
   "execution_count": 25,
   "id": "5967eed9",
   "metadata": {},
   "outputs": [
    {
     "name": "stdout",
     "output_type": "stream",
     "text": [
      "Раз\n",
      "Два\n",
      "Три\n",
      "Четыре\n",
      "Пять\n",
      "А через islice будет так: \n",
      "Раз\n",
      "Два\n",
      "Три\n",
      "Четыре\n",
      "Пять\n"
     ]
    }
   ],
   "source": [
    "# Используй islice\n",
    "words = [\"Раз\", \"Два\", \"Три\", \"Четыре\", \"Пять\", \"вышел\", \"зайчик\", \"погулять!\"]\n",
    "\n",
    "for i, word in enumerate(words):\n",
    "    if i > 4: # поскольку счет идёт с нуля\n",
    "        break\n",
    "    print(word)\n",
    "\n",
    "print(\"А через islice будет так: \")\n",
    "\n",
    "from itertools import islice\n",
    "\n",
    "five_words = 5 # это баловство, но так тоже можно :smile\n",
    "five_words = islice(words, five_words) # islice(iterable, idx_start, idx_end, step)\n",
    "\n",
    "for word in five_words:\n",
    "    print(word)"
   ]
  },
  {
   "cell_type": "markdown",
   "id": "13b7edac",
   "metadata": {},
   "source": [
    "___"
   ]
  },
  {
   "cell_type": "code",
   "execution_count": 32,
   "id": "720c9da5",
   "metadata": {},
   "outputs": [
    {
     "name": "stdout",
     "output_type": "stream",
     "text": [
      "a b\n",
      "b c\n",
      "c d\n",
      "d e\n",
      "e f\n",
      "f g\n",
      "Но можно интереснее прописать код: \n",
      "a b\n",
      "('a', 'b')\n",
      "b c\n",
      "('b', 'c')\n",
      "c d\n",
      "('c', 'd')\n",
      "d e\n",
      "('d', 'e')\n",
      "e f\n",
      "('e', 'f')\n",
      "f g\n",
      "('f', 'g')\n"
     ]
    }
   ],
   "source": [
    "letters = \"abcdefg\"\n",
    "for i in range(len(letters)-1):\n",
    "    print(letters[i], letters[i+1])\n",
    "    \n",
    "print(\"Но можно интереснее прописать код: \")\n",
    "\n",
    "from itertools import pairwise\n",
    "\n",
    "for pair in pairwise(letters): # каждая pair == tuple (кортеж)\n",
    "    print(pair[0], pair[1])\n",
    "    print(pair)"
   ]
  },
  {
   "cell_type": "markdown",
   "id": "3814ab37",
   "metadata": {},
   "source": [
    "___"
   ]
  },
  {
   "cell_type": "code",
   "execution_count": 36,
   "id": "bcbcc31d",
   "metadata": {},
   "outputs": [
    {
     "name": "stdout",
     "output_type": "stream",
     "text": [
      "4\n",
      "3\n",
      "2\n",
      "1\n",
      "0\n",
      "5 сточек выше - слишком просто. Попробуй так: \n",
      "4\n",
      "3\n",
      "2\n",
      "1\n",
      "0\n"
     ]
    }
   ],
   "source": [
    "#  Forloop with break vs. Takewhile, lambda, forloop\n",
    "\n",
    "for i in range(-5,5)[::-1]:\n",
    "    if i >= 0:\n",
    "        print(i)\n",
    "    else:\n",
    "        break\n",
    "\n",
    "print(\"5 сточек выше - слишком просто. Попробуй так: \")\n",
    "\n",
    "from itertools import takewhile\n",
    "\n",
    "items = takewhile(lambda x: x >= 0, list(range(-5, 5)[::-1]))\n",
    "for i in items:\n",
    "    print(i)"
   ]
  },
  {
   "cell_type": "markdown",
   "id": "fc1bbef9",
   "metadata": {},
   "source": [
    "___"
   ]
  },
  {
   "cell_type": "markdown",
   "id": "66037ea4",
   "metadata": {},
   "source": [
    "- *автор [Сергей Самойлов](https://github.com/sergey-samoylov)*"
   ]
  }
 ],
 "metadata": {
  "kernelspec": {
   "display_name": "Python 3 (ipykernel)",
   "language": "python",
   "name": "python3"
  },
  "language_info": {
   "codemirror_mode": {
    "name": "ipython",
    "version": 3
   },
   "file_extension": ".py",
   "mimetype": "text/x-python",
   "name": "python",
   "nbconvert_exporter": "python",
   "pygments_lexer": "ipython3",
   "version": "3.10.10"
  }
 },
 "nbformat": 4,
 "nbformat_minor": 5
}
