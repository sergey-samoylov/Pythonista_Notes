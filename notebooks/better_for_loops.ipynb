{
 "cells": [
  {
   "cell_type": "markdown",
   "id": "c8623e2d",
   "metadata": {},
   "source": [
    "# В PYTHON НЕТ ЦИКЛА FOR"
   ]
  },
  {
   "cell_type": "markdown",
   "id": "395e47a5",
   "metadata": {},
   "source": [
    "> Записки Pythonista"
   ]
  },
  {
   "cell_type": "markdown",
   "id": "f01043ca",
   "metadata": {},
   "source": [
    "Цикла for в Python не существует. \n",
    "\n",
    "В языке \"С\" есть for. \n",
    "\n",
    "А в Python - нет.  \n",
    "\n",
    "В Python используется цикл *for ... in ...*  \n",
    "\n",
    "Отличие радикальное есть! В Python нет классической индексации в цикле for. \n",
    "Итерация по умолчанию идет по каждому объекту.  \n",
    "\n",
    "Увеличение индекса происходит автоматически, под капотом."
   ]
  },
  {
   "cell_type": "markdown",
   "id": "e67bf5a2",
   "metadata": {},
   "source": [
    "+ Функции лучше цикла:"
   ]
  },
  {
   "cell_type": "code",
   "execution_count": 45,
   "id": "976ad57b",
   "metadata": {},
   "outputs": [
    {
     "name": "stdout",
     "output_type": "stream",
     "text": [
      "for loop: 15\n",
      "sum: 15\n",
      "CPU times: user 1.06 ms, sys: 236 µs, total: 1.3 ms\n",
      "Wall time: 5.61 ms\n"
     ]
    }
   ],
   "source": [
    "%%time\n",
    "# НЕ используй for loop - он медлительный\n",
    "\n",
    "nums = (1, 2, 3, 4, 5)\n",
    "res = 0\n",
    "\n",
    "for i in nums:\n",
    "    res += i\n",
    "\n",
    "print(f\"for loop: {res}\")"
   ]
  },
  {
   "cell_type": "code",
   "execution_count": 48,
   "id": "7932dba8",
   "metadata": {},
   "outputs": [
    {
     "name": "stdout",
     "output_type": "stream",
     "text": [
      "sum: 15\n",
      "CPU times: user 94 µs, sys: 20 µs, total: 114 µs\n",
      "Wall time: 104 µs\n"
     ]
    }
   ],
   "source": [
    "%%time\n",
    "# Если есть функция, она работает чаще всего быстрее и будет короче for\n",
    "nums = (1, 2, 3, 4, 5)\n",
    "\n",
    "res = sum(nums)\n",
    "print(f\"sum: {res}\")"
   ]
  },
  {
   "cell_type": "markdown",
   "id": "3cc2a176",
   "metadata": {},
   "source": [
    "---"
   ]
  },
  {
   "cell_type": "code",
   "execution_count": null,
   "id": "055e4f2a",
   "metadata": {},
   "outputs": [
    {
     "name": "stdout",
     "output_type": "stream",
     "text": [
      "0 1\n",
      "1 2\n",
      "2 3\n",
      "3 4\n",
      "4 5\n"
     ]
    }
   ],
   "source": [
    "# Enumerate лучше range в for, если нужны индексы\n",
    "nums = (1, 2, 3, 4, 5)\n",
    "for i in range(len(nums)):\n",
    "    print(i, nums[i])\n"
   ]
  },
  {
   "cell_type": "code",
   "execution_count": 39,
   "id": "7039bb7b",
   "metadata": {},
   "outputs": [
    {
     "name": "stdout",
     "output_type": "stream",
     "text": [
      "1 1\n",
      "2 2\n",
      "3 3\n",
      "4 4\n",
      "5 5\n"
     ]
    }
   ],
   "source": [
    "nums = (1, 2, 3, 4, 5)\n",
    "for i, v in enumerate(nums, start=1):\n",
    "    print(i, v)"
   ]
  },
  {
   "cell_type": "markdown",
   "id": "7fd4ba85",
   "metadata": {},
   "source": [
    "___"
   ]
  },
  {
   "cell_type": "code",
   "execution_count": 40,
   "id": "a3c2f482",
   "metadata": {},
   "outputs": [
    {
     "name": "stdout",
     "output_type": "stream",
     "text": [
      "1 a\n",
      "2 b\n",
      "3 c\n"
     ]
    },
    {
     "ename": "IndexError",
     "evalue": "list index out of range",
     "output_type": "error",
     "traceback": [
      "\u001b[0;31m---------------------------------------------------------------------------\u001b[0m",
      "\u001b[0;31mIndexError\u001b[0m                                Traceback (most recent call last)",
      "Cell \u001b[0;32mIn[40], line 6\u001b[0m\n\u001b[1;32m      3\u001b[0m b \u001b[38;5;241m=\u001b[39m [\u001b[38;5;124m\"\u001b[39m\u001b[38;5;124ma\u001b[39m\u001b[38;5;124m\"\u001b[39m, \u001b[38;5;124m\"\u001b[39m\u001b[38;5;124mb\u001b[39m\u001b[38;5;124m\"\u001b[39m, \u001b[38;5;124m\"\u001b[39m\u001b[38;5;124mc\u001b[39m\u001b[38;5;124m\"\u001b[39m]\n\u001b[1;32m      5\u001b[0m \u001b[38;5;28;01mfor\u001b[39;00m i \u001b[38;5;129;01min\u001b[39;00m \u001b[38;5;28mrange\u001b[39m(\u001b[38;5;28mlen\u001b[39m(a)):\n\u001b[0;32m----> 6\u001b[0m     \u001b[38;5;28mprint\u001b[39m(a[i], \u001b[43mb\u001b[49m\u001b[43m[\u001b[49m\u001b[43mi\u001b[49m\u001b[43m]\u001b[49m)\n",
      "\u001b[0;31mIndexError\u001b[0m: list index out of range"
     ]
    }
   ],
   "source": [
    "# Zip надежнее for\n",
    "a = [1, 2, 3, 4] # при несовпадении длин списков получим ошибку\n",
    "b = [\"a\", \"b\", \"c\"]\n",
    "\n",
    "for i in range(len(a)):\n",
    "    print(a[i], b[i])"
   ]
  },
  {
   "cell_type": "code",
   "execution_count": null,
   "id": "6426f3f2",
   "metadata": {},
   "outputs": [],
   "source": [
    "a = [1, 2, 3, 4] # ошибки не будет, если через zip\n",
    "b = [\"a\", \"b\", \"c\"] # а если ошибка нужна, то \n",
    "\n",
    "for x, y in zip(a, b): # for x, y in zip(a,b, strict=True)\n",
    "    print(x, y)"
   ]
  },
  {
   "cell_type": "markdown",
   "id": "9cff653f",
   "metadata": {},
   "source": [
    "___"
   ]
  },
  {
   "cell_type": "code",
   "execution_count": null,
   "id": "93cfeba0",
   "metadata": {},
   "outputs": [],
   "source": [
    "# Генераторы лучше for\n",
    "events = [(\"учёба\", 5), (\"учёба\", 20), (\"отдых\", 15)]\n",
    "min_learning = 0\n",
    "for i in events:\n",
    "    if i[0] == \"учёба\":\n",
    "        min_learning += i[1]\n",
    "\n",
    "print(f\"min_learning {min_learning}\")\n",
    "\n",
    "# При помощи генератора будет так:\n",
    "min_study = sum(i[1] for i in events if i[0] == \"учёба\")\n",
    "print(f\"min_study {min_study}\")\n",
    "\n",
    "# (i[1] for i in events if i[0] == \"учёба\") - генератор не работает, \n",
    "# пока не попадает в функцию sum( lazy generator )"
   ]
  },
  {
   "cell_type": "markdown",
   "id": "45fb982a",
   "metadata": {},
   "source": [
    "___"
   ]
  },
  {
   "cell_type": "code",
   "execution_count": null,
   "id": "65e4b823",
   "metadata": {},
   "outputs": [],
   "source": [
    "# Используй islice\n",
    "words = [\"Раз\", \"Два\", \"Три\", \"Четыре\", \"Пять\", \"вышел\", \"зайчик\", \"погулять!\"]\n",
    "\n",
    "for i, word in enumerate(words):\n",
    "    if i > 4: # поскольку счет идёт с нуля\n",
    "        break\n",
    "    print(word)\n",
    "\n",
    "print(\"А через islice будет так: \")\n",
    "\n",
    "from itertools import islice\n",
    "\n",
    "five_words = 5 # это баловство, но так тоже можно :smile\n",
    "five_words = islice(words, five_words) # islice(iterable, idx_start, idx_end, step)\n",
    "\n",
    "for word in five_words:\n",
    "    print(word)"
   ]
  },
  {
   "cell_type": "markdown",
   "id": "8f170d50",
   "metadata": {},
   "source": [
    "___"
   ]
  },
  {
   "cell_type": "code",
   "execution_count": null,
   "id": "84d4f800",
   "metadata": {},
   "outputs": [],
   "source": [
    "letters = \"abcdefg\"\n",
    "for i in range(len(letters)-1):\n",
    "    print(letters[i], letters[i+1])\n",
    "    \n",
    "print(\"Но можно интереснее прописать код: \")\n",
    "\n",
    "from itertools import pairwise\n",
    "\n",
    "for pair in pairwise(letters): # каждая pair == tuple (кортеж)\n",
    "    print(pair[0], pair[1])\n",
    "    print(pair)"
   ]
  },
  {
   "cell_type": "markdown",
   "id": "877af445",
   "metadata": {},
   "source": [
    "___"
   ]
  },
  {
   "cell_type": "code",
   "execution_count": null,
   "id": "d48b47a7",
   "metadata": {},
   "outputs": [],
   "source": [
    "#  Forloop with break vs. Takewhile, lambda, forloop\n",
    "\n",
    "for i in range(-5,5)[::-1]:\n",
    "    if i >= 0:\n",
    "        print(i)\n",
    "    else:\n",
    "        break\n",
    "\n",
    "print(\"Пять сточек выше - слишком просто. Попробуй так: \")\n",
    "\n",
    "from itertools import takewhile\n",
    "\n",
    "items = takewhile(lambda x: x >= 0, list(range(-5, 5)[::-1]))\n",
    "for i in items:\n",
    "    print(i)"
   ]
  },
  {
   "cell_type": "markdown",
   "id": "00dd3bc4",
   "metadata": {},
   "source": [
    "___"
   ]
  },
  {
   "cell_type": "markdown",
   "id": "fe9cd8c4",
   "metadata": {},
   "source": [
    "- *автор [Сергей Самойлов](https://github.com/sergey-samoylov)*"
   ]
  }
 ],
 "metadata": {
  "kernelspec": {
   "display_name": "Python 3 (ipykernel)",
   "language": "python",
   "name": "python3"
  },
  "language_info": {
   "codemirror_mode": {
    "name": "ipython",
    "version": 3
   },
   "file_extension": ".py",
   "mimetype": "text/x-python",
   "name": "python",
   "nbconvert_exporter": "python",
   "pygments_lexer": "ipython3",
   "version": "3.10.10"
  }
 },
 "nbformat": 4,
 "nbformat_minor": 5
}
