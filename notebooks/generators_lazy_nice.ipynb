{
 "cells": [
  {
   "cell_type": "markdown",
   "id": "c68fc6af",
   "metadata": {},
   "source": [
    "# Генераторы, когда ленивый - хорошо"
   ]
  },
  {
   "cell_type": "markdown",
   "id": "3bfa372f",
   "metadata": {},
   "source": [
    "#### Записки Pythonista"
   ]
  },
  {
   "cell_type": "code",
   "execution_count": null,
   "id": "4aa54548",
   "metadata": {},
   "outputs": [],
   "source": [
    "def square_all(numbers):\n",
    "    return (n**2 for n in numbers)\n",
    "\n",
    "# можно ещё так, но первый пример - лучше\n",
    "\n",
    "def square_all(numbers):\n",
    "    for n in numbers:\n",
    "        yield n**2"
   ]
  },
  {
   "cell_type": "markdown",
   "id": "0fc66ebe",
   "metadata": {},
   "source": [
    "Оба варианта лучше, чем обычные for loop поскольку могут работать с бесконечным количеством данных и при этом не будут нагружать систему. Они \"ленивые\" и перебирают последовательность по мере поступления данных."
   ]
  },
  {
   "cell_type": "markdown",
   "id": "1d12a382",
   "metadata": {},
   "source": [
    "- *автор [Сергей Самойлов](https://github.com/sergey-samoylov)*"
   ]
  }
 ],
 "metadata": {
  "kernelspec": {
   "display_name": "Python 3 (ipykernel)",
   "language": "python",
   "name": "python3"
  },
  "language_info": {
   "codemirror_mode": {
    "name": "ipython",
    "version": 3
   },
   "file_extension": ".py",
   "mimetype": "text/x-python",
   "name": "python",
   "nbconvert_exporter": "python",
   "pygments_lexer": "ipython3",
   "version": "3.10.10"
  }
 },
 "nbformat": 4,
 "nbformat_minor": 5
}
