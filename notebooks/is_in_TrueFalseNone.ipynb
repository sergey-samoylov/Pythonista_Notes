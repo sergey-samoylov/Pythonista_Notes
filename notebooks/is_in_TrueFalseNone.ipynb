{
 "cells": [
  {
   "cell_type": "markdown",
   "id": "12a21681",
   "metadata": {},
   "source": [
    "# \"IS\" В \"TRUE/FALSE\" И В \"NONE\""
   ]
  },
  {
   "cell_type": "markdown",
   "id": "57dc278a",
   "metadata": {},
   "source": [
    "#### Записки Pythonista"
   ]
  },
  {
   "cell_type": "code",
   "execution_count": 1,
   "id": "484b95e7",
   "metadata": {},
   "outputs": [
    {
     "data": {
      "text/plain": [
       "True"
      ]
     },
     "execution_count": 1,
     "metadata": {},
     "output_type": "execute_result"
    }
   ],
   "source": [
    "0 == 0.0"
   ]
  },
  {
   "cell_type": "code",
   "execution_count": 2,
   "id": "6d461784",
   "metadata": {},
   "outputs": [
    {
     "name": "stderr",
     "output_type": "stream",
     "text": [
      "<>:1: SyntaxWarning: \"is\" with a literal. Did you mean \"==\"?\n",
      "<>:1: SyntaxWarning: \"is\" with a literal. Did you mean \"==\"?\n",
      "/tmp/ipykernel_9772/3964195525.py:1: SyntaxWarning: \"is\" with a literal. Did you mean \"==\"?\n",
      "  0 is 0.0\n"
     ]
    },
    {
     "data": {
      "text/plain": [
       "False"
      ]
     },
     "execution_count": 2,
     "metadata": {},
     "output_type": "execute_result"
    }
   ],
   "source": [
    "0 is 0.0"
   ]
  },
  {
   "cell_type": "markdown",
   "id": "f6cb0223",
   "metadata": {},
   "source": [
    "== сравнивает значения элементов"
   ]
  },
  {
   "cell_type": "markdown",
   "id": "b4e19da1",
   "metadata": {},
   "source": [
    "is сравнивает значения и TYPE элементов"
   ]
  },
  {
   "cell_type": "markdown",
   "id": "99f17e92",
   "metadata": {},
   "source": [
    "> Используй \"is\" при операциях с True, False, None\n",
    "\n",
    "> А в str, int, float лучше \"==\""
   ]
  },
  {
   "cell_type": "code",
   "execution_count": 3,
   "id": "bf1e0b71",
   "metadata": {},
   "outputs": [
    {
     "name": "stdout",
     "output_type": "stream",
     "text": [
      "-3\n"
     ]
    }
   ],
   "source": [
    "smallest_num = None\n",
    "for i in [1, 22, -3, 105, 250]:\n",
    "    if smallest_num is None:\n",
    "        smallest_num = i\n",
    "    elif i < smallest_num:\n",
    "        smallest_num = i\n",
    "\n",
    "print(smallest_num)"
   ]
  },
  {
   "cell_type": "markdown",
   "id": "4c12b547",
   "metadata": {},
   "source": [
    "Код повторяется == его можно улучить."
   ]
  },
  {
   "cell_type": "code",
   "execution_count": 4,
   "id": "0971936c",
   "metadata": {},
   "outputs": [
    {
     "name": "stdout",
     "output_type": "stream",
     "text": [
      "-3\n"
     ]
    }
   ],
   "source": [
    "smallest_num = None\n",
    "for i in [1, 22, -3, 105, 250]:\n",
    "    if smallest_num is None or i < smallest_num:\n",
    "        smallest_num = i\n",
    "\n",
    "print(smallest_num)"
   ]
  },
  {
   "cell_type": "markdown",
   "id": "4723b20c",
   "metadata": {},
   "source": [
    "- *автор [Сергей Самойлов](https://github.com/sergey-samoylov)*"
   ]
  }
 ],
 "metadata": {
  "kernelspec": {
   "display_name": "Python 3 (ipykernel)",
   "language": "python",
   "name": "python3"
  },
  "language_info": {
   "codemirror_mode": {
    "name": "ipython",
    "version": 3
   },
   "file_extension": ".py",
   "mimetype": "text/x-python",
   "name": "python",
   "nbconvert_exporter": "python",
   "pygments_lexer": "ipython3",
   "version": "3.10.10"
  }
 },
 "nbformat": 4,
 "nbformat_minor": 5
}
