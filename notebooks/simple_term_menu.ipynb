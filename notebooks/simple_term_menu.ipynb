{
 "cells": [
  {
   "cell_type": "markdown",
   "id": "12a21681",
   "metadata": {},
   "source": [
    "# PYTHON ПРОСТОЕ МЕНЮ В ТЕРМИНАЛЕ"
   ]
  },
  {
   "cell_type": "markdown",
   "id": "57dc278a",
   "metadata": {},
   "source": [
    "#### Записки Pythonista"
   ]
  },
  {
   "cell_type": "markdown",
   "id": "8cd93c6f",
   "metadata": {},
   "source": [
    "В идеальной программе пользователь должен быть лишен самой опции совершить ошибку. \n",
    "\n",
    "Ввести ошибочные данные, перепутать что-то. \n",
    "\n",
    "У пользователя должен быть удобный, понятный интерфейс и простая система управления.\n",
    "\n",
    "Навигацию в программе лучше всего создать не через текстовые запросы и ответы, а через меню.\n",
    "\n",
    "Подойдут как минимум две программы:\n",
    "\n",
    "1. [simple_term_menu](https://pypi.org/project/simple-term-menu/) \n",
    "\n",
    "2. [fzf](https://pypi.org/project/fzf.py/)"
   ]
  },
  {
   "cell_type": "markdown",
   "id": "d2ed770d",
   "metadata": {},
   "source": [
    "Установить simple_term_menu очень просто:\n",
    "\n",
    "<pre>\n",
    "pip install simple_term_menu\n",
    "</pre>"
   ]
  },
  {
   "cell_type": "code",
   "execution_count": 1,
   "id": "d4cdb01c",
   "metadata": {},
   "outputs": [],
   "source": [
    "from simple_term_menu import TerminalMenu                                       \n",
    "                                                                                \n",
    "options = (                                                                     \n",
    "    '[1] оператор',                                                             \n",
    "    '[2] специалист',                                                           \n",
    "    '[3] старший специалист',                                                   \n",
    "    '[4] ведущий специалист',                                                   \n",
    "    '[5] выход',                                                                \n",
    ")                                                                               \n",
    "                                                                                \n",
    "salary = 40000                                                                  \n",
    "bonus = (10000, 18000, 28000, 33000,)                                           \n",
    "                                                                                \n",
    "main_menu = TerminalMenu(options)                                               \n",
    "                                                                                \n",
    "sub_menu_lst = []                                                               \n",
    "                                                                                \n",
    "for i in range(len(options)-1):                                                 \n",
    "    sub_menu_lst.append(                                                        \n",
    "        TerminalMenu(                                                           \n",
    "            [str(salary), str(bonus[i])],                                       \n",
    "            title='sub-menu-'+str([i])                                          \n",
    "        )                                                                       \n",
    "    )                                                                           \n",
    "                                                                                \n",
    "quitting = False                                                                \n",
    "                                                                                \n",
    "while quitting == False:                                                        \n",
    "    options_index = main_menu.show()                                            \n",
    "    options_choice = options[options_index]                                     \n",
    "                                                                                \n",
    "    if options_choice == '[5] выход':                                           \n",
    "        quitting = True                                                         \n",
    "    elif options_choice == '[1] оператор':                                      \n",
    "        sub_menu_lst[0].show()                                                  \n",
    "    elif options_choice == '[2] специалист':                                    \n",
    "        sub_menu_lst[1].show()                                                  \n",
    "    else:                                                                       \n",
    "        print(options_choice) "
   ]
  },
  {
   "cell_type": "markdown",
   "id": "bc8b52e3",
   "metadata": {},
   "source": [
    "Меню будет выглядеть так:\n",
    "\n",
    "<pre>\n",
    "    [1] оператор                                                             \n",
    "   >[2] специалист                                                           \n",
    "    [3] старший специалист                                                   \n",
    "    [4] ведущий специалист                                                   \n",
    "    [5] выход\n",
    "<pre>"
   ]
  },
  {
   "cell_type": "markdown",
   "id": "11b4b384",
   "metadata": {},
   "source": [
    "Выбирать можно тремя различными способами:\n",
    "\n",
    "- цифрами\n",
    "- j, k (vim style)\n",
    "- кнопками вверх/вниз\n",
    "\n",
    "Цифры сразу активируют переход или запускают действие меню, j, k и кнопки навигации - обозначают выбор. Для фактического действия нужно нажать Enter."
   ]
  },
  {
   "cell_type": "markdown",
   "id": "4723b20c",
   "metadata": {},
   "source": [
    "- *автор [Сергей Самойлов](https://github.com/sergey-samoylov)*"
   ]
  }
 ],
 "metadata": {
  "kernelspec": {
   "display_name": "Python 3 (ipykernel)",
   "language": "python",
   "name": "python3"
  },
  "language_info": {
   "codemirror_mode": {
    "name": "ipython",
    "version": 3
   },
   "file_extension": ".py",
   "mimetype": "text/x-python",
   "name": "python",
   "nbconvert_exporter": "python",
   "pygments_lexer": "ipython3",
   "version": "3.10.10"
  }
 },
 "nbformat": 4,
 "nbformat_minor": 5
}
