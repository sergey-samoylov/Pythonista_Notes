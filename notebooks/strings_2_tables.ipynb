{
 "cells": [
  {
   "cell_type": "markdown",
   "id": "c1552488",
   "metadata": {},
   "source": [
    "# f-строка и табличная верстка"
   ]
  },
  {
   "cell_type": "markdown",
   "id": "50675288",
   "metadata": {},
   "source": [
    "#### Записки Pythonista"
   ]
  },
  {
   "cell_type": "code",
   "execution_count": 22,
   "id": "426536fb",
   "metadata": {},
   "outputs": [
    {
     "name": "stdout",
     "output_type": "stream",
     "text": [
      "--------------------------------------------------------------------------------\n",
      "|               text               |                                      |\n"
     ]
    }
   ],
   "source": [
    "# наивный подход:\n",
    "print(\"-\" * 80)\n",
    "print(\"|\"+ \" \" * int((38 / 2) - 4) + 'text' + \" \" * int((38 / 2) - 4) + \"|\" + \" \" * 38 + \"|\")"
   ]
  },
  {
   "cell_type": "markdown",
   "id": "0bb97363",
   "metadata": {},
   "source": [
    "Долго вычислять каждый столбец, каждое значение и что делать, если слово или число в таблице изменятся? Табличка поедет и будет смотреться криво."
   ]
  },
  {
   "cell_type": "markdown",
   "id": "dfe260df",
   "metadata": {},
   "source": [
    "Здесь снова будем использовать мощь и силу f-строки, о которых узнали в предыдущей \"Записке Pythonista\""
   ]
  },
  {
   "cell_type": "code",
   "execution_count": 23,
   "id": "30291c81",
   "metadata": {},
   "outputs": [],
   "source": [
    "t_left = \"Первый левый\"\n",
    "t_right = \"Второй правый\"\n",
    "t_center = \"Третий центр\"\n",
    "i = 256\n",
    "h = \"ТАБЛИЦА С ЭЛЕМЕНТАМИ\"\n",
    "\n",
    "print(f\"{h:*^80}\")\n",
    "print(' ' + '_' * 78 + ' ')\n",
    "print(f\"|{t_left:<38}||{i:<38}|\")\n",
    "print('|' + '-' * 78 + '|')\n",
    "print(f\"|{t_right:>38}||{i:>38}|\")\n",
    "print('|' + '-' * 78 + '|')\n",
    "print(f\"|{t_center:^38}||{i:^38}|\")\n",
    "print('|' + '_' * 78 + '|')\n"
   ]
  },
  {
   "cell_type": "markdown",
   "id": "c811c6dc",
   "metadata": {},
   "source": [
    "Предположим нам нужно изменить значения переменных в таблице.\n",
    "\n",
    "Гарантируется, что они не выходят за пределы полей текущей таблицы.\n",
    "\n",
    "Но не преписывать же теперь код заново?\n",
    "\n",
    "Конечно, нет!"
   ]
  },
  {
   "cell_type": "code",
   "execution_count": 24,
   "id": "55b9ad69",
   "metadata": {},
   "outputs": [],
   "source": [
    "t_left = \"Левша\"\n",
    "t_right = \"Правша\"\n",
    "t_center = \"Центровой\"\n",
    "i = 3.1415926535\n",
    "h = \"СМОТРИ, ТАБЛИЦА ПРЕЖНЯЯ, А ЗНАЧЕНИЯ ИНЫЕ\"\n",
    "\n",
    "print(f\"{h:*^80}\")\n",
    "print(' ' + '_' * 78 + ' ')\n",
    "print(f\"|{t_left:<38}||{i:<38}|\")\n",
    "print('|' + '-' * 78 + '|')\n",
    "print(f\"|{t_right:>38}||{i:>38}|\")\n",
    "print('|' + '-' * 78 + '|')\n",
    "print(f\"|{t_center:^38}||{i:^38}|\")\n",
    "print('|' + '_' * 78 + '|')"
   ]
  },
  {
   "cell_type": "markdown",
   "id": "8fb0cdd7",
   "metadata": {},
   "source": [
    "Но и эту таблицу можно улучшить. Она же повторами кода нарушает принцип DRY.\n",
    "\n",
    "> **Don't Repeat Yourself**\n",
    "\n",
    "Не повторяйся в коде.\n",
    "\n",
    "Исправим этот досадный момент:"
   ]
  },
  {
   "cell_type": "code",
   "execution_count": 25,
   "id": "8636a44d",
   "metadata": {},
   "outputs": [],
   "source": [
    "t_left = \"Левша\"\n",
    "t_right = \"Правша\"\n",
    "t_center = \"Центровой\"\n",
    "i = 3.1415926535\n",
    "h = \"ПОВТОРНЫЕ ПРИНТЫ ЗАМЕНИЛИ НА ФУНКЦИИ\"\n",
    "\n",
    "def h_border():\n",
    "    print(' ' + '_' * 78 + ' ')\n",
    "\n",
    "def r_border():\n",
    "    print('|' + '-' * 78 + '|')\n",
    "\n",
    "print(f\"{h:*^80}\")\n",
    "h_border()\n",
    "print(f\"|{t_left:<38}||{i:<38}|\")\n",
    "r_border()\n",
    "print(f\"|{t_right:>38}||{i:>38}|\")\n",
    "r_border()\n",
    "print(f\"|{t_center:^38}||{i:^38}|\")\n",
    "h_border()"
   ]
  },
  {
   "cell_type": "markdown",
   "id": "4f5a3747",
   "metadata": {},
   "source": [
    "- *автор [Сергей Самойлов](https://github.com/sergey-samoylov)*"
   ]
  }
 ],
 "metadata": {
  "kernelspec": {
   "display_name": "Python 3 (ipykernel)",
   "language": "python",
   "name": "python3"
  },
  "language_info": {
   "codemirror_mode": {
    "name": "ipython",
    "version": 3
   },
   "file_extension": ".py",
   "mimetype": "text/x-python",
   "name": "python",
   "nbconvert_exporter": "python",
   "pygments_lexer": "ipython3",
   "version": "3.10.10"
  }
 },
 "nbformat": 4,
 "nbformat_minor": 5
}
