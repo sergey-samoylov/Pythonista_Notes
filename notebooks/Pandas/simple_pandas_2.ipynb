{
 "cells": [
  {
   "cell_type": "markdown",
   "id": "12a21681",
   "metadata": {},
   "source": [
    "# Pandas - Просто | 2"
   ]
  },
  {
   "cell_type": "markdown",
   "id": "57dc278a",
   "metadata": {},
   "source": [
    "#### Записки Pythonista"
   ]
  },
  {
   "cell_type": "markdown",
   "id": "a1624409",
   "metadata": {},
   "source": [
    "Повторим. Но читать в подобном столбце данные не всегда будет удобно:"
   ]
  },
  {
   "cell_type": "code",
   "execution_count": 2,
   "id": "928cf4ba",
   "metadata": {},
   "outputs": [],
   "source": [
    "import pandas as pd\n",
    "\n",
    "commands = {\n",
    "    'команды':\n",
    "    [\n",
    "        'создадим первые ячейки датафрейма:',\n",
    "        'pd.DataFrame(commands_dict)',\n",
    "        'сохраним датафрейм:',\n",
    "        'df.to_csv(\"commands.csv\")',\n",
    "        'не создавать двойной индекс датафрейма',\n",
    "        'df.to_csv(\"commands_sans_index.csv\", index=False)',\n",
    "        'считываем *.csv файл',\n",
    "        'pd.read_csv(\"commands_sans_index.csv\")',\n",
    "        'у json файлов НЕТ двойной индексации в Pandas',\n",
    "        'pd.read_json(\"commands_in_json.json\")',\n",
    "    ]\n",
    "}"
   ]
  },
  {
   "cell_type": "code",
   "execution_count": 3,
   "id": "132bd188",
   "metadata": {},
   "outputs": [
    {
     "data": {
      "text/html": [
       "<div>\n",
       "<style scoped>\n",
       "    .dataframe tbody tr th:only-of-type {\n",
       "        vertical-align: middle;\n",
       "    }\n",
       "\n",
       "    .dataframe tbody tr th {\n",
       "        vertical-align: top;\n",
       "    }\n",
       "\n",
       "    .dataframe thead th {\n",
       "        text-align: right;\n",
       "    }\n",
       "</style>\n",
       "<table border=\"1\" class=\"dataframe\">\n",
       "  <thead>\n",
       "    <tr style=\"text-align: right;\">\n",
       "      <th></th>\n",
       "      <th>команды</th>\n",
       "    </tr>\n",
       "  </thead>\n",
       "  <tbody>\n",
       "    <tr>\n",
       "      <th>0</th>\n",
       "      <td>создадим первые ячейки датафрейма:</td>\n",
       "    </tr>\n",
       "    <tr>\n",
       "      <th>1</th>\n",
       "      <td>pd.DataFrame(commands_dict)</td>\n",
       "    </tr>\n",
       "    <tr>\n",
       "      <th>2</th>\n",
       "      <td>сохраним датафрейм:</td>\n",
       "    </tr>\n",
       "    <tr>\n",
       "      <th>3</th>\n",
       "      <td>df.to_csv(\"commands.csv\")</td>\n",
       "    </tr>\n",
       "    <tr>\n",
       "      <th>4</th>\n",
       "      <td>не создавать двойной индекс датафрейма</td>\n",
       "    </tr>\n",
       "    <tr>\n",
       "      <th>5</th>\n",
       "      <td>df.to_csv(\"commands_sans_index.csv\", index=False)</td>\n",
       "    </tr>\n",
       "    <tr>\n",
       "      <th>6</th>\n",
       "      <td>считываем *.csv файл</td>\n",
       "    </tr>\n",
       "    <tr>\n",
       "      <th>7</th>\n",
       "      <td>pd.read_csv(\"commands_sans_index.csv\")</td>\n",
       "    </tr>\n",
       "    <tr>\n",
       "      <th>8</th>\n",
       "      <td>у json файлов НЕТ двойной индексации в Pandas</td>\n",
       "    </tr>\n",
       "    <tr>\n",
       "      <th>9</th>\n",
       "      <td>pd.read_json(\"commands_in_json.json\")</td>\n",
       "    </tr>\n",
       "  </tbody>\n",
       "</table>\n",
       "</div>"
      ],
      "text/plain": [
       "                                             команды\n",
       "0                 создадим первые ячейки датафрейма:\n",
       "1                        pd.DataFrame(commands_dict)\n",
       "2                                сохраним датафрейм:\n",
       "3                          df.to_csv(\"commands.csv\")\n",
       "4             не создавать двойной индекс датафрейма\n",
       "5  df.to_csv(\"commands_sans_index.csv\", index=False)\n",
       "6                               считываем *.csv файл\n",
       "7             pd.read_csv(\"commands_sans_index.csv\")\n",
       "8      у json файлов НЕТ двойной индексации в Pandas\n",
       "9              pd.read_json(\"commands_in_json.json\")"
      ]
     },
     "execution_count": 3,
     "metadata": {},
     "output_type": "execute_result"
    }
   ],
   "source": [
    "df = pd.DataFrame(commands)\n",
    "df"
   ]
  },
  {
   "cell_type": "markdown",
   "id": "8d6e8190",
   "metadata": {},
   "source": [
    "Сделаем два столбца и сократим ряды вдвое:"
   ]
  },
  {
   "cell_type": "code",
   "execution_count": 4,
   "id": "eb527a3b",
   "metadata": {},
   "outputs": [
    {
     "data": {
      "text/html": [
       "<div>\n",
       "<style scoped>\n",
       "    .dataframe tbody tr th:only-of-type {\n",
       "        vertical-align: middle;\n",
       "    }\n",
       "\n",
       "    .dataframe tbody tr th {\n",
       "        vertical-align: top;\n",
       "    }\n",
       "\n",
       "    .dataframe thead th {\n",
       "        text-align: right;\n",
       "    }\n",
       "</style>\n",
       "<table border=\"1\" class=\"dataframe\">\n",
       "  <thead>\n",
       "    <tr style=\"text-align: right;\">\n",
       "      <th></th>\n",
       "      <th>команды</th>\n",
       "      <th>значения</th>\n",
       "    </tr>\n",
       "  </thead>\n",
       "  <tbody>\n",
       "    <tr>\n",
       "      <th>0</th>\n",
       "      <td>pd.DataFrame(commands_dict)</td>\n",
       "      <td>создадим первые ячейки датафрейма:</td>\n",
       "    </tr>\n",
       "    <tr>\n",
       "      <th>1</th>\n",
       "      <td>df.to_csv(\"commands.csv\")</td>\n",
       "      <td>сохраним датафрейм:</td>\n",
       "    </tr>\n",
       "    <tr>\n",
       "      <th>2</th>\n",
       "      <td>df.to_csv(\"commands_sans_index.csv\", index=False)</td>\n",
       "      <td>не создавать двойной индекс датафрейма</td>\n",
       "    </tr>\n",
       "    <tr>\n",
       "      <th>3</th>\n",
       "      <td>pd.read_csv(\"commands_sans_index.csv\")</td>\n",
       "      <td>считываем *.csv файл</td>\n",
       "    </tr>\n",
       "    <tr>\n",
       "      <th>4</th>\n",
       "      <td>pd.read_json(\"commands_in_json.json\")</td>\n",
       "      <td>у json файлов НЕТ двойной индексации в Pandas</td>\n",
       "    </tr>\n",
       "  </tbody>\n",
       "</table>\n",
       "</div>"
      ],
      "text/plain": [
       "                                             команды  \\\n",
       "0                        pd.DataFrame(commands_dict)   \n",
       "1                          df.to_csv(\"commands.csv\")   \n",
       "2  df.to_csv(\"commands_sans_index.csv\", index=False)   \n",
       "3             pd.read_csv(\"commands_sans_index.csv\")   \n",
       "4              pd.read_json(\"commands_in_json.json\")   \n",
       "\n",
       "                                        значения  \n",
       "0             создадим первые ячейки датафрейма:  \n",
       "1                            сохраним датафрейм:  \n",
       "2         не создавать двойной индекс датафрейма  \n",
       "3                           считываем *.csv файл  \n",
       "4  у json файлов НЕТ двойной индексации в Pandas  "
      ]
     },
     "execution_count": 4,
     "metadata": {},
     "output_type": "execute_result"
    }
   ],
   "source": [
    "commands = {\n",
    "    'команды':\n",
    "    [\n",
    "        \n",
    "        'pd.DataFrame(commands_dict)',\n",
    "        'df.to_csv(\"commands.csv\")',\n",
    "        'df.to_csv(\"commands_sans_index.csv\", index=False)',\n",
    "        'pd.read_csv(\"commands_sans_index.csv\")',\n",
    "        'pd.read_json(\"commands_in_json.json\")',\n",
    "    ],\n",
    "    'значения':\n",
    "    [\n",
    "        'создадим первые ячейки датафрейма:',\n",
    "        'сохраним датафрейм:',\n",
    "        'не создавать двойной индекс датафрейма',\n",
    "        'считываем *.csv файл',\n",
    "        'у json файлов НЕТ двойной индексации в Pandas',\n",
    "    ],\n",
    "}\n",
    "\n",
    "df_2_cols = pd.DataFrame(commands)\n",
    "df_2_cols"
   ]
  },
  {
   "cell_type": "markdown",
   "id": "7d974d17",
   "metadata": {},
   "source": [
    "Гораздо удобнее! \n",
    "\n",
    "А что если надо добавить третий столбец?\n",
    "\n",
    "К примеру, обозначить, что все пять команд описаны на первой странице \"Pandas Просто\"?"
   ]
  },
  {
   "cell_type": "code",
   "execution_count": 5,
   "id": "68faae45",
   "metadata": {},
   "outputs": [
    {
     "data": {
      "text/html": [
       "<div>\n",
       "<style scoped>\n",
       "    .dataframe tbody tr th:only-of-type {\n",
       "        vertical-align: middle;\n",
       "    }\n",
       "\n",
       "    .dataframe tbody tr th {\n",
       "        vertical-align: top;\n",
       "    }\n",
       "\n",
       "    .dataframe thead th {\n",
       "        text-align: right;\n",
       "    }\n",
       "</style>\n",
       "<table border=\"1\" class=\"dataframe\">\n",
       "  <thead>\n",
       "    <tr style=\"text-align: right;\">\n",
       "      <th></th>\n",
       "      <th>команды</th>\n",
       "      <th>значения</th>\n",
       "      <th>страница</th>\n",
       "    </tr>\n",
       "  </thead>\n",
       "  <tbody>\n",
       "    <tr>\n",
       "      <th>0</th>\n",
       "      <td>pd.DataFrame(commands_dict)</td>\n",
       "      <td>создадим первые ячейки датафрейма:</td>\n",
       "      <td>1</td>\n",
       "    </tr>\n",
       "    <tr>\n",
       "      <th>1</th>\n",
       "      <td>df.to_csv(\"commands.csv\")</td>\n",
       "      <td>сохраним датафрейм:</td>\n",
       "      <td>1</td>\n",
       "    </tr>\n",
       "    <tr>\n",
       "      <th>2</th>\n",
       "      <td>df.to_csv(\"commands_sans_index.csv\", index=False)</td>\n",
       "      <td>не создавать двойной индекс датафрейма</td>\n",
       "      <td>1</td>\n",
       "    </tr>\n",
       "    <tr>\n",
       "      <th>3</th>\n",
       "      <td>pd.read_csv(\"commands_sans_index.csv\")</td>\n",
       "      <td>считываем *.csv файл</td>\n",
       "      <td>1</td>\n",
       "    </tr>\n",
       "    <tr>\n",
       "      <th>4</th>\n",
       "      <td>pd.read_json(\"commands_in_json.json\")</td>\n",
       "      <td>у json файлов НЕТ двойной индексации в Pandas</td>\n",
       "      <td>1</td>\n",
       "    </tr>\n",
       "  </tbody>\n",
       "</table>\n",
       "</div>"
      ],
      "text/plain": [
       "                                             команды  \\\n",
       "0                        pd.DataFrame(commands_dict)   \n",
       "1                          df.to_csv(\"commands.csv\")   \n",
       "2  df.to_csv(\"commands_sans_index.csv\", index=False)   \n",
       "3             pd.read_csv(\"commands_sans_index.csv\")   \n",
       "4              pd.read_json(\"commands_in_json.json\")   \n",
       "\n",
       "                                        значения  страница  \n",
       "0             создадим первые ячейки датафрейма:         1  \n",
       "1                            сохраним датафрейм:         1  \n",
       "2         не создавать двойной индекс датафрейма         1  \n",
       "3                           считываем *.csv файл         1  \n",
       "4  у json файлов НЕТ двойной индексации в Pandas         1  "
      ]
     },
     "execution_count": 5,
     "metadata": {},
     "output_type": "execute_result"
    }
   ],
   "source": [
    "df_2_cols['страница'] = (1, 1, 1, 1, 1)\n",
    "df_2_cols"
   ]
  },
  {
   "cell_type": "markdown",
   "id": "970ce05c",
   "metadata": {},
   "source": [
    "А если создать страницу с нуля? Без всякого словаря.\n",
    "\n",
    "Придумаем имя, создаем пустой датафрейм..."
   ]
  },
  {
   "cell_type": "code",
   "execution_count": 14,
   "id": "144f3f58",
   "metadata": {},
   "outputs": [
    {
     "data": {
      "text/html": [
       "<div>\n",
       "<style scoped>\n",
       "    .dataframe tbody tr th:only-of-type {\n",
       "        vertical-align: middle;\n",
       "    }\n",
       "\n",
       "    .dataframe tbody tr th {\n",
       "        vertical-align: top;\n",
       "    }\n",
       "\n",
       "    .dataframe thead th {\n",
       "        text-align: right;\n",
       "    }\n",
       "</style>\n",
       "<table border=\"1\" class=\"dataframe\">\n",
       "  <thead>\n",
       "    <tr style=\"text-align: right;\">\n",
       "      <th></th>\n",
       "      <th>colors</th>\n",
       "      <th>hex_code</th>\n",
       "    </tr>\n",
       "  </thead>\n",
       "  <tbody>\n",
       "    <tr>\n",
       "      <th>0</th>\n",
       "      <td>aqua</td>\n",
       "      <td>#00FFFF</td>\n",
       "    </tr>\n",
       "    <tr>\n",
       "      <th>1</th>\n",
       "      <td>blue</td>\n",
       "      <td>#00BFFF</td>\n",
       "    </tr>\n",
       "    <tr>\n",
       "      <th>2</th>\n",
       "      <td>green</td>\n",
       "      <td>#008000</td>\n",
       "    </tr>\n",
       "    <tr>\n",
       "      <th>3</th>\n",
       "      <td>magenta</td>\n",
       "      <td>#FF00FF</td>\n",
       "    </tr>\n",
       "    <tr>\n",
       "      <th>4</th>\n",
       "      <td>red</td>\n",
       "      <td>#FF0000</td>\n",
       "    </tr>\n",
       "    <tr>\n",
       "      <th>5</th>\n",
       "      <td>yellow</td>\n",
       "      <td>#FFFF00</td>\n",
       "    </tr>\n",
       "  </tbody>\n",
       "</table>\n",
       "</div>"
      ],
      "text/plain": [
       "    colors hex_code\n",
       "0     aqua  #00FFFF\n",
       "1     blue  #00BFFF\n",
       "2    green  #008000\n",
       "3  magenta  #FF00FF\n",
       "4      red  #FF0000\n",
       "5   yellow  #FFFF00"
      ]
     },
     "execution_count": 14,
     "metadata": {},
     "output_type": "execute_result"
    }
   ],
   "source": [
    "df_colors = pd.DataFrame()\n",
    "df_colors['colors'] = ('aqua', 'blue', 'green', 'magenta', 'red', 'yellow')\n",
    "df_colors['hex_code'] = ('#00FFFF', '#00BFFF', '#008000', '#FF00FF', '#FF0000', '#FFFF00')\n",
    "df_colors"
   ]
  },
  {
   "cell_type": "markdown",
   "id": "d2ed855a",
   "metadata": {},
   "source": [
    "Главное - количество рядов (ячеек) должно совпадать во всех колонках. Иначе - ошибка."
   ]
  },
  {
   "cell_type": "markdown",
   "id": "f88ef015",
   "metadata": {},
   "source": [
    "Вставлять столбцы в таблицу научились. Как извлекать данные? Вот в чём вопрос."
   ]
  },
  {
   "cell_type": "markdown",
   "id": "5b10b0a3",
   "metadata": {},
   "source": [
    "Если из df_colors требуются только коды цветов..."
   ]
  },
  {
   "cell_type": "code",
   "execution_count": 16,
   "id": "0c478f69",
   "metadata": {},
   "outputs": [
    {
     "data": {
      "text/plain": [
       "0    #00FFFF\n",
       "1    #00BFFF\n",
       "2    #008000\n",
       "3    #FF00FF\n",
       "4    #FF0000\n",
       "5    #FFFF00\n",
       "Name: hex_code, dtype: object"
      ]
     },
     "execution_count": 16,
     "metadata": {},
     "output_type": "execute_result"
    }
   ],
   "source": [
    "hexcodes = df_colors.hex_code\n",
    "hexcodes"
   ]
  },
  {
   "cell_type": "markdown",
   "id": "86c10e6f",
   "metadata": {},
   "source": [
    "Но как же эти данные забрать в программу Python и там обработать, как список?"
   ]
  },
  {
   "cell_type": "code",
   "execution_count": 19,
   "id": "71f17ff0",
   "metadata": {},
   "outputs": [
    {
     "data": {
      "text/plain": [
       "['#00FFFF', '#00BFFF', '#008000', '#FF00FF', '#FF0000', '#FFFF00']"
      ]
     },
     "execution_count": 19,
     "metadata": {},
     "output_type": "execute_result"
    }
   ],
   "source": [
    "hexlist = hexcodes.tolist()\n",
    "hexlist"
   ]
  },
  {
   "cell_type": "markdown",
   "id": "2b870aa2",
   "metadata": {},
   "source": [
    "Можно из датафреймов получать целиком ряды. Определяются через iloc по индексу ряда."
   ]
  },
  {
   "cell_type": "code",
   "execution_count": 22,
   "id": "e30f0866",
   "metadata": {},
   "outputs": [
    {
     "data": {
      "text/plain": [
       "colors        green\n",
       "hex_code    #008000\n",
       "Name: 2, dtype: object"
      ]
     },
     "execution_count": 22,
     "metadata": {},
     "output_type": "execute_result"
    }
   ],
   "source": [
    "df_2_green = df_colors.iloc[2]\n",
    "df_2_green"
   ]
  },
  {
   "cell_type": "markdown",
   "id": "4723b20c",
   "metadata": {},
   "source": [
    "- *автор [Сергей Самойлов](https://github.com/sergey-samoylov)*"
   ]
  }
 ],
 "metadata": {
  "kernelspec": {
   "display_name": "Python 3 (ipykernel)",
   "language": "python",
   "name": "python3"
  },
  "language_info": {
   "codemirror_mode": {
    "name": "ipython",
    "version": 3
   },
   "file_extension": ".py",
   "mimetype": "text/x-python",
   "name": "python",
   "nbconvert_exporter": "python",
   "pygments_lexer": "ipython3",
   "version": "3.10.10"
  }
 },
 "nbformat": 4,
 "nbformat_minor": 5
}
