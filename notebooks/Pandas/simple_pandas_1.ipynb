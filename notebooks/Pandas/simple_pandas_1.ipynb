{
 "cells": [
  {
   "cell_type": "markdown",
   "id": "12a21681",
   "metadata": {},
   "source": [
    "# Pandas Просто | 1"
   ]
  },
  {
   "cell_type": "markdown",
   "id": "57dc278a",
   "metadata": {},
   "source": [
    "#### Записки Pythonista"
   ]
  },
  {
   "cell_type": "code",
   "execution_count": 6,
   "id": "0d580073",
   "metadata": {},
   "outputs": [],
   "source": [
    "import pandas as pd\n",
    "\n",
    "commands = {\n",
    "    'команды':\n",
    "    [\n",
    "        'создадим первые ячейки датафрейма',\n",
    "        'pd.DataFrame(commands_dict)',\n",
    "    ]\n",
    "}"
   ]
  },
  {
   "cell_type": "code",
   "execution_count": 5,
   "id": "c46326db",
   "metadata": {},
   "outputs": [
    {
     "data": {
      "text/html": [
       "<div>\n",
       "<style scoped>\n",
       "    .dataframe tbody tr th:only-of-type {\n",
       "        vertical-align: middle;\n",
       "    }\n",
       "\n",
       "    .dataframe tbody tr th {\n",
       "        vertical-align: top;\n",
       "    }\n",
       "\n",
       "    .dataframe thead th {\n",
       "        text-align: right;\n",
       "    }\n",
       "</style>\n",
       "<table border=\"1\" class=\"dataframe\">\n",
       "  <thead>\n",
       "    <tr style=\"text-align: right;\">\n",
       "      <th></th>\n",
       "      <th>команды</th>\n",
       "    </tr>\n",
       "  </thead>\n",
       "  <tbody>\n",
       "    <tr>\n",
       "      <th>0</th>\n",
       "      <td>создадим первые ячейки датафрейма</td>\n",
       "    </tr>\n",
       "    <tr>\n",
       "      <th>1</th>\n",
       "      <td>pd.DataFrame(commands_dict)</td>\n",
       "    </tr>\n",
       "  </tbody>\n",
       "</table>\n",
       "</div>"
      ],
      "text/plain": [
       "                             команды\n",
       "0  создадим первые ячейки датафрейма\n",
       "1        pd.DataFrame(commands_dict)"
      ]
     },
     "execution_count": 5,
     "metadata": {},
     "output_type": "execute_result"
    }
   ],
   "source": [
    "# первратим словарь Python в датафрейм:\n",
    "df = pd.DataFrame(commands)\n",
    "df"
   ]
  },
  {
   "cell_type": "code",
   "execution_count": 50,
   "id": "ddd38bfc",
   "metadata": {},
   "outputs": [],
   "source": [
    "commands = {\n",
    "    'команды':\n",
    "    [\n",
    "        'создадим первые ячейки датафрейма:',\n",
    "        'pd.DataFrame(commands_dict)',\n",
    "        'сохраним датафрейм:',\n",
    "        'df.to_csv(\"commands.csv\")'\n",
    "    ]\n",
    "}\n",
    "\n",
    "df = pd.DataFrame(commands)\n",
    "\n",
    "df.to_csv(\"commands.csv\")"
   ]
  },
  {
   "cell_type": "markdown",
   "id": "10c4620e",
   "metadata": {},
   "source": [
    "> забавный момент: df.to_csv обозначает сохранение, но не сам формат\n",
    "\n",
    "Формат файла определяется расширением. Можно было написать:\n",
    "\n",
    "df.to_csv(commands.txt) или df.to_csv(commands.md) "
   ]
  },
  {
   "cell_type": "code",
   "execution_count": 15,
   "id": "fd778322",
   "metadata": {},
   "outputs": [
    {
     "name": "stdout",
     "output_type": "stream",
     "text": [
      "commands.csv  simple_pandas.ipynb\r\n"
     ]
    }
   ],
   "source": [
    "ls"
   ]
  },
  {
   "cell_type": "code",
   "execution_count": 23,
   "id": "f3f6a82e",
   "metadata": {},
   "outputs": [
    {
     "name": "stdout",
     "output_type": "stream",
     "text": [
      ",команды\r\n",
      "0,создадим первые ячейки датафрейма:\r\n",
      "1,pd.DataFrame(commands_dict)\r\n",
      "2,сохраним датафрейм:\r\n",
      "3,\"df.to_csv(\"\"commands.csv\"\")\"\r\n"
     ]
    }
   ],
   "source": [
    "cat commands.csv"
   ]
  },
  {
   "cell_type": "code",
   "execution_count": 21,
   "id": "5cd9f600",
   "metadata": {},
   "outputs": [],
   "source": [
    "# проверим\n",
    "df.to_csv(\"commands.txt\")"
   ]
  },
  {
   "cell_type": "code",
   "execution_count": 29,
   "id": "b452e482",
   "metadata": {},
   "outputs": [
    {
     "name": "stdout",
     "output_type": "stream",
     "text": [
      "commands.csv  commands.txt  simple_pandas.ipynb\r\n"
     ]
    }
   ],
   "source": [
    "ls"
   ]
  },
  {
   "cell_type": "code",
   "execution_count": 32,
   "id": "6e76c6b5",
   "metadata": {},
   "outputs": [
    {
     "name": "stdout",
     "output_type": "stream",
     "text": [
      ",команды\r\n",
      "0,создадим первые ячейки датафрейма:\r\n",
      "1,pd.DataFrame(commands_dict)\r\n",
      "2,сохраним датафрейм:\r\n",
      "3,\"df.to_csv(\"\"commands.csv\"\")\"\r\n"
     ]
    }
   ],
   "source": [
    "cat commands.txt"
   ]
  },
  {
   "cell_type": "markdown",
   "id": "d6607383",
   "metadata": {},
   "source": [
    "был создан txt файл и cat его прекрасно открывает"
   ]
  },
  {
   "cell_type": "markdown",
   "id": "f3028092",
   "metadata": {},
   "source": [
    "Но что будет, если этот самый файл открыть теперь Pandas?"
   ]
  },
  {
   "cell_type": "code",
   "execution_count": 34,
   "id": "7ae1d250",
   "metadata": {},
   "outputs": [
    {
     "data": {
      "text/html": [
       "<div>\n",
       "<style scoped>\n",
       "    .dataframe tbody tr th:only-of-type {\n",
       "        vertical-align: middle;\n",
       "    }\n",
       "\n",
       "    .dataframe tbody tr th {\n",
       "        vertical-align: top;\n",
       "    }\n",
       "\n",
       "    .dataframe thead th {\n",
       "        text-align: right;\n",
       "    }\n",
       "</style>\n",
       "<table border=\"1\" class=\"dataframe\">\n",
       "  <thead>\n",
       "    <tr style=\"text-align: right;\">\n",
       "      <th></th>\n",
       "      <th>Unnamed: 0</th>\n",
       "      <th>команды</th>\n",
       "    </tr>\n",
       "  </thead>\n",
       "  <tbody>\n",
       "    <tr>\n",
       "      <th>0</th>\n",
       "      <td>0</td>\n",
       "      <td>создадим первые ячейки датафрейма:</td>\n",
       "    </tr>\n",
       "    <tr>\n",
       "      <th>1</th>\n",
       "      <td>1</td>\n",
       "      <td>pd.DataFrame(commands_dict)</td>\n",
       "    </tr>\n",
       "    <tr>\n",
       "      <th>2</th>\n",
       "      <td>2</td>\n",
       "      <td>сохраним датафрейм:</td>\n",
       "    </tr>\n",
       "    <tr>\n",
       "      <th>3</th>\n",
       "      <td>3</td>\n",
       "      <td>df.to_csv(\"commands.csv\")</td>\n",
       "    </tr>\n",
       "  </tbody>\n",
       "</table>\n",
       "</div>"
      ],
      "text/plain": [
       "   Unnamed: 0                             команды\n",
       "0           0  создадим первые ячейки датафрейма:\n",
       "1           1         pd.DataFrame(commands_dict)\n",
       "2           2                 сохраним датафрейм:\n",
       "3           3           df.to_csv(\"commands.csv\")"
      ]
     },
     "execution_count": 34,
     "metadata": {},
     "output_type": "execute_result"
    }
   ],
   "source": [
    "df_new = pd.read_csv(\"commands.txt\")\n",
    "df_new"
   ]
  },
  {
   "cell_type": "markdown",
   "id": "1cd83db0",
   "metadata": {},
   "source": [
    "df_new \"не знает\", что колонка id (primary_key, index) уже создана. \n",
    "\n",
    "Он её не \"видит\" пока и благоразумно предлагает свою.\n",
    "\n",
    "Поэтому получилась двойная индексация. Исправим досадный момент."
   ]
  },
  {
   "cell_type": "code",
   "execution_count": 56,
   "id": "4bf42885",
   "metadata": {},
   "outputs": [],
   "source": [
    "commands = {\n",
    "    'команды':\n",
    "    [\n",
    "        'создадим первые ячейки датафрейма:',\n",
    "        'pd.DataFrame(commands_dict)',\n",
    "        'сохраним датафрейм:',\n",
    "        'df.to_csv(\"commands.csv\")',\n",
    "        'не создавать двойной индекс датафрейма',\n",
    "        'df.to_csv(\"commands_sans_index.csv\", index=False)',\n",
    "        'считываем *.csv файл',\n",
    "        'pd.read_csv(\"commands_sans_index.csv\")',\n",
    "    ]\n",
    "}"
   ]
  },
  {
   "cell_type": "code",
   "execution_count": 57,
   "id": "933ca12f",
   "metadata": {},
   "outputs": [],
   "source": [
    "df = pd.DataFrame(commands)"
   ]
  },
  {
   "cell_type": "code",
   "execution_count": 47,
   "id": "4b9b0c77",
   "metadata": {},
   "outputs": [],
   "source": [
    "df.to_csv(\"commands_sans_index.csv\", index=False)"
   ]
  },
  {
   "cell_type": "code",
   "execution_count": 48,
   "id": "fd98062a",
   "metadata": {},
   "outputs": [
    {
     "data": {
      "text/html": [
       "<div>\n",
       "<style scoped>\n",
       "    .dataframe tbody tr th:only-of-type {\n",
       "        vertical-align: middle;\n",
       "    }\n",
       "\n",
       "    .dataframe tbody tr th {\n",
       "        vertical-align: top;\n",
       "    }\n",
       "\n",
       "    .dataframe thead th {\n",
       "        text-align: right;\n",
       "    }\n",
       "</style>\n",
       "<table border=\"1\" class=\"dataframe\">\n",
       "  <thead>\n",
       "    <tr style=\"text-align: right;\">\n",
       "      <th></th>\n",
       "      <th>команды</th>\n",
       "    </tr>\n",
       "  </thead>\n",
       "  <tbody>\n",
       "    <tr>\n",
       "      <th>0</th>\n",
       "      <td>создадим первые ячейки датафрейма:</td>\n",
       "    </tr>\n",
       "    <tr>\n",
       "      <th>1</th>\n",
       "      <td>pd.DataFrame(commands_dict)</td>\n",
       "    </tr>\n",
       "    <tr>\n",
       "      <th>2</th>\n",
       "      <td>сохраним датафрейм:</td>\n",
       "    </tr>\n",
       "    <tr>\n",
       "      <th>3</th>\n",
       "      <td>df.to_csv(\"commands.csv\")</td>\n",
       "    </tr>\n",
       "    <tr>\n",
       "      <th>4</th>\n",
       "      <td>не создавать двойной индекс датафрейма</td>\n",
       "    </tr>\n",
       "    <tr>\n",
       "      <th>5</th>\n",
       "      <td>df.to_csv(\"commands_sans_index.csv\", index=False)</td>\n",
       "    </tr>\n",
       "    <tr>\n",
       "      <th>6</th>\n",
       "      <td>считываем *.csv файл</td>\n",
       "    </tr>\n",
       "    <tr>\n",
       "      <th>7</th>\n",
       "      <td>pd.read_csv(\"commands_sans_index.csv\")</td>\n",
       "    </tr>\n",
       "  </tbody>\n",
       "</table>\n",
       "</div>"
      ],
      "text/plain": [
       "                                             команды\n",
       "0                 создадим первые ячейки датафрейма:\n",
       "1                        pd.DataFrame(commands_dict)\n",
       "2                                сохраним датафрейм:\n",
       "3                          df.to_csv(\"commands.csv\")\n",
       "4             не создавать двойной индекс датафрейма\n",
       "5  df.to_csv(\"commands_sans_index.csv\", index=False)\n",
       "6                               считываем *.csv файл\n",
       "7             pd.read_csv(\"commands_sans_index.csv\")"
      ]
     },
     "execution_count": 48,
     "metadata": {},
     "output_type": "execute_result"
    }
   ],
   "source": [
    "df_sans = pd.read_csv(\"commands_sans_index.csv\")\n",
    "df_sans"
   ]
  },
  {
   "cell_type": "markdown",
   "id": "93c86fdf",
   "metadata": {},
   "source": [
    "Если же сохранить в формате json, то никаких двойных индексаций не будет"
   ]
  },
  {
   "cell_type": "code",
   "execution_count": 58,
   "id": "b14b746f",
   "metadata": {},
   "outputs": [],
   "source": [
    "df.to_json(\"commands_in_json.json\")"
   ]
  },
  {
   "cell_type": "code",
   "execution_count": 59,
   "id": "c1976aa5",
   "metadata": {},
   "outputs": [],
   "source": [
    "df_json = pd.read_json(\"commands_in_json.json\")"
   ]
  },
  {
   "cell_type": "markdown",
   "id": "172ea5cb",
   "metadata": {},
   "source": [
    "Прекрасно работает без (..., index=False)"
   ]
  },
  {
   "cell_type": "code",
   "execution_count": 60,
   "id": "95b3d6e4",
   "metadata": {},
   "outputs": [
    {
     "data": {
      "text/html": [
       "<div>\n",
       "<style scoped>\n",
       "    .dataframe tbody tr th:only-of-type {\n",
       "        vertical-align: middle;\n",
       "    }\n",
       "\n",
       "    .dataframe tbody tr th {\n",
       "        vertical-align: top;\n",
       "    }\n",
       "\n",
       "    .dataframe thead th {\n",
       "        text-align: right;\n",
       "    }\n",
       "</style>\n",
       "<table border=\"1\" class=\"dataframe\">\n",
       "  <thead>\n",
       "    <tr style=\"text-align: right;\">\n",
       "      <th></th>\n",
       "      <th>команды</th>\n",
       "    </tr>\n",
       "  </thead>\n",
       "  <tbody>\n",
       "    <tr>\n",
       "      <th>0</th>\n",
       "      <td>создадим первые ячейки датафрейма:</td>\n",
       "    </tr>\n",
       "    <tr>\n",
       "      <th>1</th>\n",
       "      <td>pd.DataFrame(commands_dict)</td>\n",
       "    </tr>\n",
       "    <tr>\n",
       "      <th>2</th>\n",
       "      <td>сохраним датафрейм:</td>\n",
       "    </tr>\n",
       "    <tr>\n",
       "      <th>3</th>\n",
       "      <td>df.to_csv(\"commands.csv\")</td>\n",
       "    </tr>\n",
       "    <tr>\n",
       "      <th>4</th>\n",
       "      <td>не создавать двойной индекс датафрейма</td>\n",
       "    </tr>\n",
       "    <tr>\n",
       "      <th>5</th>\n",
       "      <td>df.to_csv(\"commands_sans_index.csv\", index=False)</td>\n",
       "    </tr>\n",
       "    <tr>\n",
       "      <th>6</th>\n",
       "      <td>считываем *.csv файл</td>\n",
       "    </tr>\n",
       "    <tr>\n",
       "      <th>7</th>\n",
       "      <td>pd.read_csv(\"commands_sans_index.csv\")</td>\n",
       "    </tr>\n",
       "  </tbody>\n",
       "</table>\n",
       "</div>"
      ],
      "text/plain": [
       "                                             команды\n",
       "0                 создадим первые ячейки датафрейма:\n",
       "1                        pd.DataFrame(commands_dict)\n",
       "2                                сохраним датафрейм:\n",
       "3                          df.to_csv(\"commands.csv\")\n",
       "4             не создавать двойной индекс датафрейма\n",
       "5  df.to_csv(\"commands_sans_index.csv\", index=False)\n",
       "6                               считываем *.csv файл\n",
       "7             pd.read_csv(\"commands_sans_index.csv\")"
      ]
     },
     "execution_count": 60,
     "metadata": {},
     "output_type": "execute_result"
    }
   ],
   "source": [
    "df_json"
   ]
  },
  {
   "cell_type": "markdown",
   "id": "4723b20c",
   "metadata": {},
   "source": [
    "- *автор [Сергей Самойлов](https://github.com/sergey-samoylov)*"
   ]
  }
 ],
 "metadata": {
  "kernelspec": {
   "display_name": "Python 3 (ipykernel)",
   "language": "python",
   "name": "python3"
  },
  "language_info": {
   "codemirror_mode": {
    "name": "ipython",
    "version": 3
   },
   "file_extension": ".py",
   "mimetype": "text/x-python",
   "name": "python",
   "nbconvert_exporter": "python",
   "pygments_lexer": "ipython3",
   "version": "3.10.10"
  }
 },
 "nbformat": 4,
 "nbformat_minor": 5
}
