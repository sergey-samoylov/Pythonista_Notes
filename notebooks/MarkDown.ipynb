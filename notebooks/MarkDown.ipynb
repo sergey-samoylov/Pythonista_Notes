{
 "cells": [
  {
   "cell_type": "markdown",
   "id": "12a21681",
   "metadata": {},
   "source": [
    "# MARKDOWN ПРОСТО ТЭГИ"
   ]
  },
  {
   "cell_type": "markdown",
   "id": "57dc278a",
   "metadata": {},
   "source": [
    "#### Записки Pythonista"
   ]
  },
  {
   "cell_type": "markdown",
   "id": "10bd93db",
   "metadata": {},
   "source": [
    "- [x] код Python или Bash в Markdown\n",
    "- [x] списки\n",
    "- [x] вложенные списки\n",
    "- [x] чекбоксы\n",
    "- [x] автоматическая нумерация\n",
    "- [x] римские цифры (по умолчанию)\n",
    "- [x] ссылки\n",
    "- [x] картинки/фото/скриншоты\n",
    "- [x] заголовки"
   ]
  },
  {
   "cell_type": "markdown",
   "id": "832c9873",
   "metadata": {},
   "source": [
    "## Блоки PYTHON и BASH кода в тексте Markdown"
   ]
  },
  {
   "cell_type": "markdown",
   "id": "cee0583b",
   "metadata": {},
   "source": [
    "Если сделать tab, и напечатать код, то мы и получим отображение кода в markdown\n",
    "    \n",
    "    print('statement')"
   ]
  },
  {
   "cell_type": "markdown",
   "id": "6b3d250a",
   "metadata": {},
   "source": [
    "Второй вариант: \n",
    "\n",
    "использовать \"одиночные наклонные кавычки\" (tick)\n",
    "\n",
    "По три перед кодом и после кода \"\\`\\`\\`\"\n",
    "\n",
    "``` python\n",
    "def my_print():\n",
    "    print(\"Этот вариант предпочтительнее\")\n",
    "```\n"
   ]
  },
  {
   "cell_type": "markdown",
   "id": "98307040",
   "metadata": {},
   "source": [
    "``` python\n",
    "def my_print():\n",
    "    print(\"Он может использовать подсветку синтаксиса\")\n",
    "```"
   ]
  },
  {
   "cell_type": "markdown",
   "id": "d883b32d",
   "metadata": {},
   "source": [
    "- Можно показать код с отступом в отдельном блоке\n",
    "\n",
    "    ```bash\n",
    "    echo \"CLIsa = Command Line Interface + AI Alisa\"\n",
    "    CLIsa = Command Line Interface + AI Alisa\n",
    "    ```"
   ]
  },
  {
   "cell_type": "markdown",
   "id": "6336f74b",
   "metadata": {},
   "source": [
    "- Можно показать код с отступом в отдельном блоке\n",
    "\n",
    "    ```bash\n",
    "    echo \"CLIsa\"\n",
    "    CLIsa\n",
    "    ```"
   ]
  },
  {
   "cell_type": "markdown",
   "id": "81113bca",
   "metadata": {},
   "source": [
    "Вставить листинг кода в текст `print(\"Можно через одиночные наклонные кавычки (tick)\")`"
   ]
  },
  {
   "cell_type": "markdown",
   "id": "e4f8877f",
   "metadata": {},
   "source": [
    "## СПИСКИ"
   ]
  },
  {
   "cell_type": "markdown",
   "id": "c4ae0bab",
   "metadata": {},
   "source": [
    "Для создания простого списка используем \"-\" или \"\\*\"\n",
    "\n",
    "Символ \"-\" предпочтительнее, для него не надо нажимать ещё и на SHIFT"
   ]
  },
  {
   "cell_type": "markdown",
   "id": "6fadc732",
   "metadata": {},
   "source": [
    "- вложенный ненумерованный (простой) список создается через отступы\n",
    "    - табуляция и должен получиться первый элемент вложенного списка\n",
    "    - второй элемент вложенного списка.\n",
    "- продолжение основного списка (второй элемент)"
   ]
  },
  {
   "cell_type": "markdown",
   "id": "621e0083",
   "metadata": {},
   "source": [
    "- если строчки длинные,\n",
    "\n",
    "  продолжить первый элемент нужно выравниванием по первой букве\n",
    "  \n",
    "  первого слова.\n",
    "    - далее через таб могут следовать элементы вложенного списка\n",
    "    - второй вложенный\n",
    "    - третий вложенный\n",
    "- второй элемент основного списка"
   ]
  },
  {
   "cell_type": "markdown",
   "id": "17febd24",
   "metadata": {},
   "source": [
    "## ЧЕКБОКСЫ"
   ]
  },
  {
   "cell_type": "markdown",
   "id": "d13a5d31",
   "metadata": {},
   "source": [
    "- [ ] пустой чекбокс создается через \"- [ ] элемент\"\n",
    "- [x] чекбокс с галочкой делаем \"- [x] элемент\""
   ]
  },
  {
   "cell_type": "markdown",
   "id": "f12c5f4e",
   "metadata": {},
   "source": [
    "## АВТОНУМЕРАЦИЯ"
   ]
  },
  {
   "cell_type": "markdown",
   "id": "f2a4509f",
   "metadata": {},
   "source": [
    "2. Нумерованный список начнется с той цифры, которая будет указана в первой позиции списка\n",
    "2. Далее список можно продолжать с той же 2.\n",
    "2. При рендеринге Markdown нумерация будет выстраиваться автоматически.\n",
    "2. Если в дальнейшем добавить элемент в список, markdown сам определит его индекс\n",
    "2. Выстроит нумерацию остальных позиций по феншую.\n",
    "2. В данном списке каждый элемент начинается с двойки."
   ]
  },
  {
   "cell_type": "markdown",
   "id": "ead8eec6",
   "metadata": {},
   "source": [
    "2. Нумерованный список начнется с той цифры, которая будет указана в первой позиции списка\n",
    "2. Далее список можно продолжать с той же 2.\n",
    "2. При рендеринге Markdown нумерация будет выстраиваться автоматически.\n",
    "2. Если в дальнейшем добавить элемент в список, markdown сам определит его индекс\n",
    "2. Выстроит нумерацию остальных позиций по феншую.\n",
    "2. В данном списке каждый элемент начинается с двойки."
   ]
  },
  {
   "cell_type": "markdown",
   "id": "c9cec009",
   "metadata": {},
   "source": [
    "1. Первый элемент может быть любым. Простым или нумерованным\n",
    "   1. Прописные буквы в индексации списка\n",
    "       1. Строчные буквы \n",
    "       1. Третья строчными\n",
    "           1. Римские цифры\n",
    "           1. В этом списке на самом деле используются только единицы в коде\n",
    "           1. Отображение markdown определяет позиционированием\n",
    "               1. Ещё элемент"
   ]
  },
  {
   "cell_type": "markdown",
   "id": "534416e0",
   "metadata": {},
   "source": [
    "1. Первый элемент может быть любым. Простым или нумерованным\n",
    "   1. Прописные буквы в индексации списка\n",
    "       1. Строчные буквы \n",
    "       1. Третья строчными\n",
    "           1. Римские цифры\n",
    "           1. В этом списке на самом деле используются только единицы в коде\n",
    "           1. Отображение markdown определяет позиционированием\n",
    "               1. Ещё элемент"
   ]
  },
  {
   "cell_type": "markdown",
   "id": "e8ca3d48",
   "metadata": {},
   "source": [
    "## ССЫЛКИ\n"
   ]
  },
  {
   "cell_type": "markdown",
   "id": "303ce199",
   "metadata": {},
   "source": [
    "Первый вариант:"
   ]
  },
  {
   "cell_type": "markdown",
   "id": "dfe270f0",
   "metadata": {},
   "source": [
    "[Посмотрите мой гитхаб](https://github.com/sergey-samoylov)"
   ]
  },
  {
   "cell_type": "markdown",
   "id": "23a8a77f",
   "metadata": {},
   "source": [
    "[Посмотрите мой гитхаб](https://github.com/sergey-samoylov)"
   ]
  },
  {
   "cell_type": "markdown",
   "id": "1071f4b1",
   "metadata": {},
   "source": [
    "Второй вариант:"
   ]
  },
  {
   "cell_type": "markdown",
   "id": "be50ff99",
   "metadata": {},
   "source": [
    "Заходите на мой [@github]. Новые проекты - каждый день.\n",
    "\n",
    "[@github]: https://github.com/sergey-samoylov"
   ]
  },
  {
   "cell_type": "markdown",
   "id": "dc29d75a",
   "metadata": {},
   "source": [
    "Заходите на мой [@github]. Новые проекты - каждый день.\n",
    "Реферальная ссылка может быть размещена где угодно в тексте.\n",
    "\n",
    "[@github]: https://github.com/sergey-samoylov"
   ]
  },
  {
   "cell_type": "markdown",
   "id": "16782105",
   "metadata": {},
   "source": [
    "## ФОТКИ"
   ]
  },
  {
   "cell_type": "markdown",
   "id": "c44704ce",
   "metadata": {},
   "source": [
    "![милый котейка](https://e0.pxfuel.com/wallpapers/939/211/desktop-wallpaper-kitten-cats-kitties-thumbnail.jpg)"
   ]
  },
  {
   "cell_type": "markdown",
   "id": "d395664f",
   "metadata": {},
   "source": [
    "![милый котейка](https://e0.pxfuel.com/wallpapers/939/211/desktop-wallpaper-kitten-cats-kitties-thumbnail.jpg)"
   ]
  },
  {
   "cell_type": "markdown",
   "id": "95e5a468",
   "metadata": {},
   "source": [
    "## Заголовки"
   ]
  },
  {
   "cell_type": "markdown",
   "id": "b7cacfbb",
   "metadata": {},
   "source": [
    "# h1 Заголок\n",
    "## h2 Заголок\n",
    "### h3 Заголок\n",
    "#### h4 Заголок\n",
    "##### h5 Заголок\n",
    "###### h6 Заголок"
   ]
  },
  {
   "cell_type": "markdown",
   "id": "4723b20c",
   "metadata": {},
   "source": [
    "- *автор [Сергей Самойлов](https://github.com/sergey-samoylov)*"
   ]
  }
 ],
 "metadata": {
  "kernelspec": {
   "display_name": "Python 3 (ipykernel)",
   "language": "python",
   "name": "python3"
  },
  "language_info": {
   "codemirror_mode": {
    "name": "ipython",
    "version": 3
   },
   "file_extension": ".py",
   "mimetype": "text/x-python",
   "name": "python",
   "nbconvert_exporter": "python",
   "pygments_lexer": "ipython3",
   "version": "3.10.10"
  }
 },
 "nbformat": 4,
 "nbformat_minor": 5
}
