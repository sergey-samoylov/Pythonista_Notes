{
 "cells": [
  {
   "cell_type": "markdown",
   "id": "12a21681",
   "metadata": {},
   "source": [
    "# БИВНИ МОРЖА ИЛИ РОГА АНТИЛОПЫ"
   ]
  },
  {
   "cell_type": "markdown",
   "id": "57dc278a",
   "metadata": {},
   "source": [
    "#### Записки Pythonista"
   ]
  },
  {
   "cell_type": "markdown",
   "id": "16193296",
   "metadata": {},
   "source": [
    ":= есть в Python(с версии 3.8) такой крутой оператор\n",
    "\n",
    "Большинству напоминает глаза(:) и бивни моржа(=). \n",
    "\n",
    "Отсюда и название -- walrus."
   ]
  },
  {
   "cell_type": "markdown",
   "id": "0e427752",
   "metadata": {},
   "source": [
    "Предположим, у нас было много кода. И в нём определено название животного == \"морж\"\n",
    "\n",
    "Но, кому-то сочетание := напомнило грациозную антилопу.\n",
    "\n",
    "Не переписывать же теперь весь код? В принте надо вывести новое название."
   ]
  },
  {
   "cell_type": "code",
   "execution_count": 17,
   "id": "20d2c23d",
   "metadata": {},
   "outputs": [
    {
     "name": "stdout",
     "output_type": "stream",
     "text": [
      "морж\n",
      "антилопа\n",
      "антилопа\n"
     ]
    }
   ],
   "source": [
    "animal = 'морж'\n",
    "print(animal)\n",
    "\"\"\"Здесь было много кода ...\n",
    "а теперь магия: (оператор walrus)\"\"\"\n",
    "print(animal := 'антилопа')\n",
    "# фишка ещё в том, что отныне animal == 'антилопа'\n",
    "print(animal)"
   ]
  },
  {
   "cell_type": "markdown",
   "id": "4bc11494",
   "metadata": {},
   "source": [
    "Благодаря walrus := можно переопределять значения переменных \"на ходу\", использовать их сразу в качестве аргументов функций. Красиво и удобно! "
   ]
  },
  {
   "cell_type": "markdown",
   "id": "60d716f2",
   "metadata": {},
   "source": [
    "А ты помнишь мультфильм \"[Золотая Антилопа](https://youtu.be/-qip4uUHFgs?t=1626)\", мой маленький друг? :-)\n",
    "\n",
    "Смотри, на пример из него:"
   ]
  },
  {
   "cell_type": "code",
   "execution_count": 1,
   "id": "55c86be7",
   "metadata": {},
   "outputs": [
    {
     "name": "stdout",
     "output_type": "stream",
     "text": [
      "Но учти, как только ты скажешь 'Довольно!'... : Больше!!!\n",
      "Золотые слова!\n",
      "Но учти, как только ты скажешь 'Довольно!'... : Давай ещё!\n",
      "Золотые слова!\n",
      "Но учти, как только ты скажешь 'Довольно!'... : Это всё моё!\n",
      "Золотые слова!\n",
      "Но учти, как только ты скажешь 'Довольно!'... : ...\n",
      "Золотые слова!\n",
      "Но учти, как только ты скажешь 'Довольно!'... : Довольно!\n"
     ]
    }
   ],
   "source": [
    "while (value := input(\"Но учти, как только ты скажешь 'Довольно!'... : \")) != \"Довольно!\":\n",
    "    print(\"Золотые слова!\")"
   ]
  },
  {
   "cell_type": "markdown",
   "id": "bca0537b",
   "metadata": {},
   "source": [
    "А еще := реальная экономия в коде:"
   ]
  },
  {
   "cell_type": "code",
   "execution_count": 15,
   "id": "edde4392",
   "metadata": {},
   "outputs": [
    {
     "name": "stdout",
     "output_type": "stream",
     "text": [
      "[1, 4, 9, 16]\n",
      "[1, 4, 9, 16]\n"
     ]
    }
   ],
   "source": [
    "def square(num):                                                                \n",
    "    return num**2                                                               \n",
    "\n",
    "# функция square(num) вызывается дважды в list comprehension\n",
    "y = [square(x) for x in range(1, 6) if square(x) < 25]\n",
    "\n",
    "# функция square(num) вызывается раз в list comprehension\n",
    "z = [a for x in range(1, 6) if (a := square(x)) < 25]\n",
    "\n",
    "print(y, z, sep='\\n')"
   ]
  },
  {
   "cell_type": "markdown",
   "id": "4723b20c",
   "metadata": {},
   "source": [
    "- *автор [Сергей Самойлов](https://github.com/sergey-samoylov)*"
   ]
  }
 ],
 "metadata": {
  "kernelspec": {
   "display_name": "Python 3 (ipykernel)",
   "language": "python",
   "name": "python3"
  },
  "language_info": {
   "codemirror_mode": {
    "name": "ipython",
    "version": 3
   },
   "file_extension": ".py",
   "mimetype": "text/x-python",
   "name": "python",
   "nbconvert_exporter": "python",
   "pygments_lexer": "ipython3",
   "version": "3.10.10"
  }
 },
 "nbformat": 4,
 "nbformat_minor": 5
}
